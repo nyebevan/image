{
 "cells": [
  {
   "cell_type": "markdown",
   "metadata": {},
   "source": [
    "# Import software libraries and load the datasets"
   ]
  },
  {
   "cell_type": "code",
   "execution_count": 1,
   "metadata": {},
   "outputs": [
    {
     "name": "stdout",
     "output_type": "stream",
     "text": [
      "Libraries used in this project:\n",
      "- Python 3.9.7 (default, Sep 16 2021, 16:59:28) [MSC v.1916 64 bit (AMD64)]\n",
      "- NumPy 1.22.3\n",
      "- pandas 1.4.3\n",
      "\n",
      "Loaded datasets.\n"
     ]
    }
   ],
   "source": [
    "import sys\n",
    "import numpy as np\n",
    "import pandas as pd\n",
    "\n",
    "# Summarize software libraries used.\n",
    "print('Libraries used in this project:')\n",
    "print('- Python {}'.format(sys.version))\n",
    "print('- NumPy {}'.format(np.__version__))\n",
    "print('- pandas {}'.format(pd.__version__))\n",
    "\n",
    "# Load the datasets.\n",
    "sales_arr = np.loadtxt('..\\\\data\\\\initial_sales.csv',\n",
    "                       delimiter = ',')\n",
    "ratings_arr = np.loadtxt('..\\\\data\\\\initial_ratings.csv',\n",
    "                         delimiter = ',')\n",
    "print('\\nLoaded datasets.')"
   ]
  },
  {
   "cell_type": "markdown",
   "metadata": {},
   "source": [
    "# Create a `Series` from a 1-D NumPy array"
   ]
  },
  {
   "cell_type": "code",
   "execution_count": 2,
   "metadata": {},
   "outputs": [
    {
     "name": "stdout",
     "output_type": "stream",
     "text": [
      "[ 9.1  9.6  7.4  8.4  5.3  4.1  5.8  8.   7.2  5.9  4.5  6.8  7.1  8.2\n",
      "  5.7  4.5  4.6  6.9  8.6  4.4  4.8  5.1  4.4  9.9  6.   8.5  6.7  7.7\n",
      "  9.6  7.4  4.8  4.5  5.1  5.1  7.5  6.8  7.   4.7  7.6  7.7  7.9  6.3\n",
      "  5.6  7.6  9.5  8.4  4.1  8.1  7.9  9.5  8.5  6.5  6.1  6.5  8.2  5.8\n",
      "  6.6  9.3 10.   7.  10.   8.6  7.6  5.8  6.7  9.9  6.4  4.3  9.6  5.9\n",
      "  4.   8.7  9.4  5.4  5.7  6.6  6.   5.5  6.4  6.6  8.3  6.6  4.   9.9\n",
      "  7.3  5.7  7.1  8.2  5.1  8.6  6.6  7.2  5.1  4.1  9.3  7.4]\n",
      "\n",
      "Shape of ratings_arr: (96,)\n"
     ]
    }
   ],
   "source": [
    "print(ratings_arr)\n",
    "print('\\nShape of ratings_arr: {}'.format(ratings_arr.shape))"
   ]
  },
  {
   "cell_type": "code",
   "execution_count": 3,
   "metadata": {},
   "outputs": [
    {
     "data": {
      "text/plain": [
       "0     9.1\n",
       "1     9.6\n",
       "2     7.4\n",
       "3     8.4\n",
       "4     5.3\n",
       "     ... \n",
       "91    7.2\n",
       "92    5.1\n",
       "93    4.1\n",
       "94    9.3\n",
       "95    7.4\n",
       "Length: 96, dtype: float64"
      ]
     },
     "execution_count": 3,
     "metadata": {},
     "output_type": "execute_result"
    }
   ],
   "source": [
    "ratings_s = pd.Series(ratings_arr)\n",
    "ratings_s"
   ]
  },
  {
   "cell_type": "code",
   "execution_count": 4,
   "metadata": {},
   "outputs": [
    {
     "name": "stdout",
     "output_type": "stream",
     "text": [
      "Series shape:   (96,)\n",
      "Series indices: RangeIndex(start=0, stop=96, step=1)\n"
     ]
    }
   ],
   "source": [
    "print('Series shape:   {}'.format(ratings_s.shape))\n",
    "print('Series indices: {}'.format(ratings_s.index))"
   ]
  },
  {
   "cell_type": "markdown",
   "metadata": {},
   "source": [
    "# Create a `DataFrame` from a 2-D NumPy array"
   ]
  },
  {
   "cell_type": "code",
   "execution_count": 5,
   "metadata": {},
   "outputs": [
    {
     "name": "stdout",
     "output_type": "stream",
     "text": [
      "[[ 74.69   7.    26.14 548.97 522.83 500.24]\n",
      " [ 15.28   5.     3.82  80.22  76.4   73.21]\n",
      " [ 46.33   7.    16.22 340.53 324.31 321.12]\n",
      " [ 58.22   8.    23.29 489.05 465.76 430.98]\n",
      " [ 86.31   7.    30.21 634.38 604.17 578.9 ]\n",
      " [ 85.39   7.    29.89 627.62 597.73 585.04]\n",
      " [ 68.84   6.    20.65 433.69 413.04 395.42]\n",
      " [ 73.56  10.    36.78 772.38 735.6  702.08]\n",
      " [ 36.26   2.     3.63  76.15  72.52  69.8 ]\n",
      " [ 54.84   3.     8.23 172.75 164.52 156.08]]\n",
      "\n",
      "Shape of sales_arr: (96, 6)\n"
     ]
    }
   ],
   "source": [
    "print(sales_arr[:10, :])\n",
    "print('\\nShape of sales_arr: {}'.format(sales_arr.shape))"
   ]
  },
  {
   "cell_type": "code",
   "execution_count": 6,
   "metadata": {},
   "outputs": [
    {
     "data": {
      "text/html": [
       "<div>\n",
       "<style scoped>\n",
       "    .dataframe tbody tr th:only-of-type {\n",
       "        vertical-align: middle;\n",
       "    }\n",
       "\n",
       "    .dataframe tbody tr th {\n",
       "        vertical-align: top;\n",
       "    }\n",
       "\n",
       "    .dataframe thead th {\n",
       "        text-align: right;\n",
       "    }\n",
       "</style>\n",
       "<table border=\"1\" class=\"dataframe\">\n",
       "  <thead>\n",
       "    <tr style=\"text-align: right;\">\n",
       "      <th></th>\n",
       "      <th>UnitPrice</th>\n",
       "      <th>Quantity</th>\n",
       "      <th>Tax</th>\n",
       "      <th>TotalPrice</th>\n",
       "      <th>Revenue</th>\n",
       "      <th>COGS</th>\n",
       "    </tr>\n",
       "  </thead>\n",
       "  <tbody>\n",
       "    <tr>\n",
       "      <th>0</th>\n",
       "      <td>74.69</td>\n",
       "      <td>7.0</td>\n",
       "      <td>26.14</td>\n",
       "      <td>548.97</td>\n",
       "      <td>522.83</td>\n",
       "      <td>500.24</td>\n",
       "    </tr>\n",
       "    <tr>\n",
       "      <th>1</th>\n",
       "      <td>15.28</td>\n",
       "      <td>5.0</td>\n",
       "      <td>3.82</td>\n",
       "      <td>80.22</td>\n",
       "      <td>76.40</td>\n",
       "      <td>73.21</td>\n",
       "    </tr>\n",
       "    <tr>\n",
       "      <th>2</th>\n",
       "      <td>46.33</td>\n",
       "      <td>7.0</td>\n",
       "      <td>16.22</td>\n",
       "      <td>340.53</td>\n",
       "      <td>324.31</td>\n",
       "      <td>321.12</td>\n",
       "    </tr>\n",
       "    <tr>\n",
       "      <th>3</th>\n",
       "      <td>58.22</td>\n",
       "      <td>8.0</td>\n",
       "      <td>23.29</td>\n",
       "      <td>489.05</td>\n",
       "      <td>465.76</td>\n",
       "      <td>430.98</td>\n",
       "    </tr>\n",
       "    <tr>\n",
       "      <th>4</th>\n",
       "      <td>86.31</td>\n",
       "      <td>7.0</td>\n",
       "      <td>30.21</td>\n",
       "      <td>634.38</td>\n",
       "      <td>604.17</td>\n",
       "      <td>578.90</td>\n",
       "    </tr>\n",
       "    <tr>\n",
       "      <th>...</th>\n",
       "      <td>...</td>\n",
       "      <td>...</td>\n",
       "      <td>...</td>\n",
       "      <td>...</td>\n",
       "      <td>...</td>\n",
       "      <td>...</td>\n",
       "    </tr>\n",
       "    <tr>\n",
       "      <th>91</th>\n",
       "      <td>97.16</td>\n",
       "      <td>1.0</td>\n",
       "      <td>4.86</td>\n",
       "      <td>102.02</td>\n",
       "      <td>97.16</td>\n",
       "      <td>92.68</td>\n",
       "    </tr>\n",
       "    <tr>\n",
       "      <th>92</th>\n",
       "      <td>87.87</td>\n",
       "      <td>10.0</td>\n",
       "      <td>43.94</td>\n",
       "      <td>922.64</td>\n",
       "      <td>878.70</td>\n",
       "      <td>848.40</td>\n",
       "    </tr>\n",
       "    <tr>\n",
       "      <th>93</th>\n",
       "      <td>12.45</td>\n",
       "      <td>6.0</td>\n",
       "      <td>3.74</td>\n",
       "      <td>78.44</td>\n",
       "      <td>74.70</td>\n",
       "      <td>72.06</td>\n",
       "    </tr>\n",
       "    <tr>\n",
       "      <th>94</th>\n",
       "      <td>52.75</td>\n",
       "      <td>3.0</td>\n",
       "      <td>7.91</td>\n",
       "      <td>166.16</td>\n",
       "      <td>158.25</td>\n",
       "      <td>152.99</td>\n",
       "    </tr>\n",
       "    <tr>\n",
       "      <th>95</th>\n",
       "      <td>82.70</td>\n",
       "      <td>6.0</td>\n",
       "      <td>24.81</td>\n",
       "      <td>521.01</td>\n",
       "      <td>496.20</td>\n",
       "      <td>477.84</td>\n",
       "    </tr>\n",
       "  </tbody>\n",
       "</table>\n",
       "<p>96 rows × 6 columns</p>\n",
       "</div>"
      ],
      "text/plain": [
       "    UnitPrice  Quantity    Tax  TotalPrice  Revenue    COGS\n",
       "0       74.69       7.0  26.14      548.97   522.83  500.24\n",
       "1       15.28       5.0   3.82       80.22    76.40   73.21\n",
       "2       46.33       7.0  16.22      340.53   324.31  321.12\n",
       "3       58.22       8.0  23.29      489.05   465.76  430.98\n",
       "4       86.31       7.0  30.21      634.38   604.17  578.90\n",
       "..        ...       ...    ...         ...      ...     ...\n",
       "91      97.16       1.0   4.86      102.02    97.16   92.68\n",
       "92      87.87      10.0  43.94      922.64   878.70  848.40\n",
       "93      12.45       6.0   3.74       78.44    74.70   72.06\n",
       "94      52.75       3.0   7.91      166.16   158.25  152.99\n",
       "95      82.70       6.0  24.81      521.01   496.20  477.84\n",
       "\n",
       "[96 rows x 6 columns]"
      ]
     },
     "execution_count": 6,
     "metadata": {},
     "output_type": "execute_result"
    }
   ],
   "source": [
    "cols = ['UnitPrice', 'Quantity', 'Tax', 'TotalPrice', 'Revenue', 'COGS']\n",
    "sales_df = pd.DataFrame(sales_arr, columns = cols)\n",
    "sales_df"
   ]
  },
  {
   "cell_type": "code",
   "execution_count": 7,
   "metadata": {},
   "outputs": [
    {
     "name": "stdout",
     "output_type": "stream",
     "text": [
      "DataFrame shape:   (96, 6)\n",
      "DataFrame size:    576\n",
      "DataFrame indices: RangeIndex(start=0, stop=96, step=1)\n"
     ]
    }
   ],
   "source": [
    "print('DataFrame shape:   {}'.format(sales_df.shape))\n",
    "print('DataFrame size:    {}'.format(sales_df.size))\n",
    "print('DataFrame indices: {}'.format(sales_df.index))"
   ]
  },
  {
   "cell_type": "code",
   "execution_count": 8,
   "metadata": {},
   "outputs": [
    {
     "data": {
      "text/plain": [
       "UnitPrice     float64\n",
       "Quantity      float64\n",
       "Tax           float64\n",
       "TotalPrice    float64\n",
       "Revenue       float64\n",
       "COGS          float64\n",
       "dtype: object"
      ]
     },
     "execution_count": 8,
     "metadata": {},
     "output_type": "execute_result"
    }
   ],
   "source": [
    "sales_df.dtypes"
   ]
  },
  {
   "cell_type": "markdown",
   "metadata": {},
   "source": [
    "# Get a quick look at `DataFrame` records"
   ]
  },
  {
   "cell_type": "code",
   "execution_count": 9,
   "metadata": {},
   "outputs": [
    {
     "data": {
      "text/html": [
       "<div>\n",
       "<style scoped>\n",
       "    .dataframe tbody tr th:only-of-type {\n",
       "        vertical-align: middle;\n",
       "    }\n",
       "\n",
       "    .dataframe tbody tr th {\n",
       "        vertical-align: top;\n",
       "    }\n",
       "\n",
       "    .dataframe thead th {\n",
       "        text-align: right;\n",
       "    }\n",
       "</style>\n",
       "<table border=\"1\" class=\"dataframe\">\n",
       "  <thead>\n",
       "    <tr style=\"text-align: right;\">\n",
       "      <th></th>\n",
       "      <th>UnitPrice</th>\n",
       "      <th>Quantity</th>\n",
       "      <th>Tax</th>\n",
       "      <th>TotalPrice</th>\n",
       "      <th>Revenue</th>\n",
       "      <th>COGS</th>\n",
       "    </tr>\n",
       "  </thead>\n",
       "  <tbody>\n",
       "    <tr>\n",
       "      <th>0</th>\n",
       "      <td>74.69</td>\n",
       "      <td>7.0</td>\n",
       "      <td>26.14</td>\n",
       "      <td>548.97</td>\n",
       "      <td>522.83</td>\n",
       "      <td>500.24</td>\n",
       "    </tr>\n",
       "    <tr>\n",
       "      <th>1</th>\n",
       "      <td>15.28</td>\n",
       "      <td>5.0</td>\n",
       "      <td>3.82</td>\n",
       "      <td>80.22</td>\n",
       "      <td>76.40</td>\n",
       "      <td>73.21</td>\n",
       "    </tr>\n",
       "    <tr>\n",
       "      <th>2</th>\n",
       "      <td>46.33</td>\n",
       "      <td>7.0</td>\n",
       "      <td>16.22</td>\n",
       "      <td>340.53</td>\n",
       "      <td>324.31</td>\n",
       "      <td>321.12</td>\n",
       "    </tr>\n",
       "    <tr>\n",
       "      <th>3</th>\n",
       "      <td>58.22</td>\n",
       "      <td>8.0</td>\n",
       "      <td>23.29</td>\n",
       "      <td>489.05</td>\n",
       "      <td>465.76</td>\n",
       "      <td>430.98</td>\n",
       "    </tr>\n",
       "    <tr>\n",
       "      <th>4</th>\n",
       "      <td>86.31</td>\n",
       "      <td>7.0</td>\n",
       "      <td>30.21</td>\n",
       "      <td>634.38</td>\n",
       "      <td>604.17</td>\n",
       "      <td>578.90</td>\n",
       "    </tr>\n",
       "    <tr>\n",
       "      <th>5</th>\n",
       "      <td>85.39</td>\n",
       "      <td>7.0</td>\n",
       "      <td>29.89</td>\n",
       "      <td>627.62</td>\n",
       "      <td>597.73</td>\n",
       "      <td>585.04</td>\n",
       "    </tr>\n",
       "    <tr>\n",
       "      <th>6</th>\n",
       "      <td>68.84</td>\n",
       "      <td>6.0</td>\n",
       "      <td>20.65</td>\n",
       "      <td>433.69</td>\n",
       "      <td>413.04</td>\n",
       "      <td>395.42</td>\n",
       "    </tr>\n",
       "    <tr>\n",
       "      <th>7</th>\n",
       "      <td>73.56</td>\n",
       "      <td>10.0</td>\n",
       "      <td>36.78</td>\n",
       "      <td>772.38</td>\n",
       "      <td>735.60</td>\n",
       "      <td>702.08</td>\n",
       "    </tr>\n",
       "    <tr>\n",
       "      <th>8</th>\n",
       "      <td>36.26</td>\n",
       "      <td>2.0</td>\n",
       "      <td>3.63</td>\n",
       "      <td>76.15</td>\n",
       "      <td>72.52</td>\n",
       "      <td>69.80</td>\n",
       "    </tr>\n",
       "    <tr>\n",
       "      <th>9</th>\n",
       "      <td>54.84</td>\n",
       "      <td>3.0</td>\n",
       "      <td>8.23</td>\n",
       "      <td>172.75</td>\n",
       "      <td>164.52</td>\n",
       "      <td>156.08</td>\n",
       "    </tr>\n",
       "  </tbody>\n",
       "</table>\n",
       "</div>"
      ],
      "text/plain": [
       "   UnitPrice  Quantity    Tax  TotalPrice  Revenue    COGS\n",
       "0      74.69       7.0  26.14      548.97   522.83  500.24\n",
       "1      15.28       5.0   3.82       80.22    76.40   73.21\n",
       "2      46.33       7.0  16.22      340.53   324.31  321.12\n",
       "3      58.22       8.0  23.29      489.05   465.76  430.98\n",
       "4      86.31       7.0  30.21      634.38   604.17  578.90\n",
       "5      85.39       7.0  29.89      627.62   597.73  585.04\n",
       "6      68.84       6.0  20.65      433.69   413.04  395.42\n",
       "7      73.56      10.0  36.78      772.38   735.60  702.08\n",
       "8      36.26       2.0   3.63       76.15    72.52   69.80\n",
       "9      54.84       3.0   8.23      172.75   164.52  156.08"
      ]
     },
     "execution_count": 9,
     "metadata": {},
     "output_type": "execute_result"
    }
   ],
   "source": [
    "sales_df.head(10)"
   ]
  },
  {
   "cell_type": "code",
   "execution_count": 10,
   "metadata": {},
   "outputs": [
    {
     "data": {
      "text/html": [
       "<div>\n",
       "<style scoped>\n",
       "    .dataframe tbody tr th:only-of-type {\n",
       "        vertical-align: middle;\n",
       "    }\n",
       "\n",
       "    .dataframe tbody tr th {\n",
       "        vertical-align: top;\n",
       "    }\n",
       "\n",
       "    .dataframe thead th {\n",
       "        text-align: right;\n",
       "    }\n",
       "</style>\n",
       "<table border=\"1\" class=\"dataframe\">\n",
       "  <thead>\n",
       "    <tr style=\"text-align: right;\">\n",
       "      <th></th>\n",
       "      <th>UnitPrice</th>\n",
       "      <th>Quantity</th>\n",
       "      <th>Tax</th>\n",
       "      <th>TotalPrice</th>\n",
       "      <th>Revenue</th>\n",
       "      <th>COGS</th>\n",
       "    </tr>\n",
       "  </thead>\n",
       "  <tbody>\n",
       "    <tr>\n",
       "      <th>86</th>\n",
       "      <td>47.38</td>\n",
       "      <td>4.0</td>\n",
       "      <td>9.48</td>\n",
       "      <td>199.00</td>\n",
       "      <td>189.52</td>\n",
       "      <td>182.38</td>\n",
       "    </tr>\n",
       "    <tr>\n",
       "      <th>87</th>\n",
       "      <td>44.86</td>\n",
       "      <td>10.0</td>\n",
       "      <td>22.43</td>\n",
       "      <td>471.03</td>\n",
       "      <td>448.60</td>\n",
       "      <td>427.73</td>\n",
       "    </tr>\n",
       "    <tr>\n",
       "      <th>88</th>\n",
       "      <td>21.98</td>\n",
       "      <td>7.0</td>\n",
       "      <td>7.69</td>\n",
       "      <td>161.55</td>\n",
       "      <td>153.86</td>\n",
       "      <td>149.21</td>\n",
       "    </tr>\n",
       "    <tr>\n",
       "      <th>89</th>\n",
       "      <td>64.36</td>\n",
       "      <td>9.0</td>\n",
       "      <td>28.96</td>\n",
       "      <td>608.20</td>\n",
       "      <td>579.24</td>\n",
       "      <td>561.34</td>\n",
       "    </tr>\n",
       "    <tr>\n",
       "      <th>90</th>\n",
       "      <td>89.75</td>\n",
       "      <td>1.0</td>\n",
       "      <td>4.49</td>\n",
       "      <td>94.24</td>\n",
       "      <td>89.75</td>\n",
       "      <td>84.76</td>\n",
       "    </tr>\n",
       "    <tr>\n",
       "      <th>91</th>\n",
       "      <td>97.16</td>\n",
       "      <td>1.0</td>\n",
       "      <td>4.86</td>\n",
       "      <td>102.02</td>\n",
       "      <td>97.16</td>\n",
       "      <td>92.68</td>\n",
       "    </tr>\n",
       "    <tr>\n",
       "      <th>92</th>\n",
       "      <td>87.87</td>\n",
       "      <td>10.0</td>\n",
       "      <td>43.94</td>\n",
       "      <td>922.64</td>\n",
       "      <td>878.70</td>\n",
       "      <td>848.40</td>\n",
       "    </tr>\n",
       "    <tr>\n",
       "      <th>93</th>\n",
       "      <td>12.45</td>\n",
       "      <td>6.0</td>\n",
       "      <td>3.74</td>\n",
       "      <td>78.44</td>\n",
       "      <td>74.70</td>\n",
       "      <td>72.06</td>\n",
       "    </tr>\n",
       "    <tr>\n",
       "      <th>94</th>\n",
       "      <td>52.75</td>\n",
       "      <td>3.0</td>\n",
       "      <td>7.91</td>\n",
       "      <td>166.16</td>\n",
       "      <td>158.25</td>\n",
       "      <td>152.99</td>\n",
       "    </tr>\n",
       "    <tr>\n",
       "      <th>95</th>\n",
       "      <td>82.70</td>\n",
       "      <td>6.0</td>\n",
       "      <td>24.81</td>\n",
       "      <td>521.01</td>\n",
       "      <td>496.20</td>\n",
       "      <td>477.84</td>\n",
       "    </tr>\n",
       "  </tbody>\n",
       "</table>\n",
       "</div>"
      ],
      "text/plain": [
       "    UnitPrice  Quantity    Tax  TotalPrice  Revenue    COGS\n",
       "86      47.38       4.0   9.48      199.00   189.52  182.38\n",
       "87      44.86      10.0  22.43      471.03   448.60  427.73\n",
       "88      21.98       7.0   7.69      161.55   153.86  149.21\n",
       "89      64.36       9.0  28.96      608.20   579.24  561.34\n",
       "90      89.75       1.0   4.49       94.24    89.75   84.76\n",
       "91      97.16       1.0   4.86      102.02    97.16   92.68\n",
       "92      87.87      10.0  43.94      922.64   878.70  848.40\n",
       "93      12.45       6.0   3.74       78.44    74.70   72.06\n",
       "94      52.75       3.0   7.91      166.16   158.25  152.99\n",
       "95      82.70       6.0  24.81      521.01   496.20  477.84"
      ]
     },
     "execution_count": 10,
     "metadata": {},
     "output_type": "execute_result"
    }
   ],
   "source": [
    "sales_df.tail(10)"
   ]
  },
  {
   "cell_type": "code",
   "execution_count": null,
   "metadata": {},
   "outputs": [],
   "source": []
  }
 ],
 "metadata": {
  "kernelspec": {
   "display_name": "Python 3 (ipykernel)",
   "language": "python",
   "name": "python3"
  },
  "language_info": {
   "codemirror_mode": {
    "name": "ipython",
    "version": 3
   },
   "file_extension": ".py",
   "mimetype": "text/x-python",
   "name": "python",
   "nbconvert_exporter": "python",
   "pygments_lexer": "ipython3",
   "version": "3.9.7"
  }
 },
 "nbformat": 4,
 "nbformat_minor": 2
}
