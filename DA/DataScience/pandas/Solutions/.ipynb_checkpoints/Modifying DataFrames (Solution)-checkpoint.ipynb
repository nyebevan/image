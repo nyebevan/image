{
 "cells": [
  {
   "cell_type": "markdown",
   "metadata": {},
   "source": [
    "# Import software libraries and load the dataset"
   ]
  },
  {
   "cell_type": "code",
   "execution_count": 1,
   "metadata": {},
   "outputs": [
    {
     "name": "stdout",
     "output_type": "stream",
     "text": [
      "Libraries used in this project:\n",
      "- Python 3.9.7 (default, Sep 16 2021, 16:59:28) [MSC v.1916 64 bit (AMD64)]\n",
      "- NumPy 1.22.3\n",
      "- pandas 1.4.3\n",
      "\n",
      "Loaded dataset.\n"
     ]
    }
   ],
   "source": [
    "import sys\n",
    "import numpy as np\n",
    "import pandas as pd\n",
    "\n",
    "# Summarize software libraries used.\n",
    "print('Libraries used in this project:')\n",
    "print('- Python {}'.format(sys.version))\n",
    "print('- NumPy {}'.format(np.__version__))\n",
    "print('- pandas {}'.format(pd.__version__))\n",
    "\n",
    "# Load the dataset.\n",
    "stores_df = pd.read_csv('../data/stores_data_full.csv',\n",
    "                        index_col = 0)\n",
    "print('\\nLoaded dataset.')"
   ]
  },
  {
   "cell_type": "markdown",
   "metadata": {},
   "source": [
    "# Rename some of the columns "
   ]
  },
  {
   "cell_type": "code",
   "execution_count": 2,
   "metadata": {},
   "outputs": [
    {
     "data": {
      "text/plain": [
       "Index(['Date', 'City', 'CustomerType', 'Gender', 'ProductLine', 'UnitPrice',\n",
       "       'Quantity', 'Tax', 'TotalPrice', 'Revenue', 'COGS', 'CustomerRating'],\n",
       "      dtype='object')"
      ]
     },
     "execution_count": 2,
     "metadata": {},
     "output_type": "execute_result"
    }
   ],
   "source": [
    "stores_df.columns"
   ]
  },
  {
   "cell_type": "code",
   "execution_count": null,
   "metadata": {},
   "outputs": [],
   "source": [
    "new_cols = {'City': 'Branch', 'Tax': 'TaxPrice'}\n",
    "stores_df = stores_df.rename(columns = new_cols)\n",
    "stores_df.head()"
   ]
  },
  {
   "cell_type": "markdown",
   "metadata": {},
   "source": [
    "# Convert the `Date` column to datetime format"
   ]
  },
  {
   "cell_type": "code",
   "execution_count": null,
   "metadata": {},
   "outputs": [],
   "source": [
    "converted_dates = pd.to_datetime(stores_df['Date'])\n",
    "stores_df['Date'] = converted_dates\n",
    "stores_df.head()"
   ]
  },
  {
   "cell_type": "code",
   "execution_count": null,
   "metadata": {},
   "outputs": [],
   "source": [
    "feb_cond = stores_df['Date'].dt.month_name() == 'February'\n",
    "stores_df[feb_cond].head()"
   ]
  },
  {
   "cell_type": "markdown",
   "metadata": {},
   "source": [
    "# Handle missing values"
   ]
  },
  {
   "cell_type": "code",
   "execution_count": null,
   "metadata": {},
   "outputs": [],
   "source": [
    "rows = stores_df.isna().any(axis = 1)\n",
    "cols = stores_df.isna().any()\n",
    "stores_df.loc[rows, cols]"
   ]
  },
  {
   "cell_type": "code",
   "execution_count": null,
   "metadata": {},
   "outputs": [],
   "source": [
    "fill_vals = {'Gender': 'Male', 'TotalPrice': 293.14}\n",
    "stores_df = stores_df.fillna(fill_vals)\n",
    "stores_df.loc[rows, cols]"
   ]
  },
  {
   "cell_type": "code",
   "execution_count": null,
   "metadata": {},
   "outputs": [],
   "source": [
    "quant_fill = pd.Series([4, 3], index = ['CAR-FBV-054', 'CAR-STR-027'])\n",
    "stores_df['Quantity'] = stores_df['Quantity'].fillna(quant_fill)\n",
    "stores_df.loc[rows, cols]"
   ]
  },
  {
   "cell_type": "code",
   "execution_count": null,
   "metadata": {},
   "outputs": [],
   "source": [
    "revenue = stores_df['TotalPrice'] - stores_df['TaxPrice']\n",
    "stores_df['Revenue'] = stores_df['Revenue'].fillna(revenue)\n",
    "stores_df.loc[rows, cols]"
   ]
  },
  {
   "cell_type": "markdown",
   "metadata": {},
   "source": [
    "# Use arithmetic to impute missing COGS values"
   ]
  },
  {
   "cell_type": "code",
   "execution_count": null,
   "metadata": {},
   "outputs": [],
   "source": [
    "# Average percentage decrease from revenue to COGS.\n",
    "perc_decr = ((stores_df['Revenue'] - stores_df['COGS']) \\\n",
    "             / (stores_df['Revenue'])).mean()\n",
    "\n",
    "perc_decr"
   ]
  },
  {
   "cell_type": "code",
   "execution_count": null,
   "metadata": {},
   "outputs": [],
   "source": [
    "ind = ['CAR-CLO-015', 'CAR-ELE-060', 'CAR-HBE-025', 'OLI-HML-039']\n",
    "\n",
    "impute_vals = round(stores_df.loc[ind, 'Revenue'] / (1 + perc_decr), 2)\n",
    "impute_vals"
   ]
  },
  {
   "cell_type": "code",
   "execution_count": null,
   "metadata": {},
   "outputs": [],
   "source": [
    "stores_df['COGS'] = stores_df['COGS'].fillna(impute_vals)\n",
    "stores_df.loc[rows, cols]"
   ]
  },
  {
   "cell_type": "markdown",
   "metadata": {},
   "source": [
    "# Create a new gross income column"
   ]
  },
  {
   "cell_type": "code",
   "execution_count": null,
   "metadata": {},
   "outputs": [],
   "source": [
    "stores_df['GrossIncome'] = stores_df['Revenue'] - stores_df['COGS']\n",
    "stores_df.iloc[:10, -8:]"
   ]
  },
  {
   "cell_type": "markdown",
   "metadata": {},
   "source": [
    "# Identify and drop rows with erroneous quantities"
   ]
  },
  {
   "cell_type": "code",
   "execution_count": null,
   "metadata": {},
   "outputs": [],
   "source": [
    "stores_df[stores_df['Quantity'] < 1]"
   ]
  },
  {
   "cell_type": "code",
   "execution_count": null,
   "metadata": {},
   "outputs": [],
   "source": [
    "print('Number of rows BEFORE drop: {}.'.format(stores_df.shape[0]))\n",
    "\n",
    "rows_drop = stores_df[stores_df['Quantity'] < 1].index\n",
    "stores_df = stores_df.drop(index = rows_drop)\n",
    "\n",
    "print('Number of rows AFTER drop: {}.'.format(stores_df.shape[0]))"
   ]
  }
 ],
 "metadata": {
  "kernelspec": {
   "display_name": "Python 3 (ipykernel)",
   "language": "python",
   "name": "python3"
  },
  "language_info": {
   "codemirror_mode": {
    "name": "ipython",
    "version": 3
   },
   "file_extension": ".py",
   "mimetype": "text/x-python",
   "name": "python",
   "nbconvert_exporter": "python",
   "pygments_lexer": "ipython3",
   "version": "3.9.7"
  }
 },
 "nbformat": 4,
 "nbformat_minor": 2
}
