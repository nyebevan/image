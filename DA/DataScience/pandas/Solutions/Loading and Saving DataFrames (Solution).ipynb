{
 "cells": [
  {
   "cell_type": "markdown",
   "metadata": {},
   "source": [
    "# Import software libraries"
   ]
  },
  {
   "cell_type": "code",
   "execution_count": 1,
   "metadata": {},
   "outputs": [
    {
     "name": "stdout",
     "output_type": "stream",
     "text": [
      "Libraries used in this project:\n",
      "- Python 3.9.7 (default, Sep 16 2021, 16:59:28) [MSC v.1916 64 bit (AMD64)]\n",
      "- NumPy 1.22.3\n",
      "- pandas 1.4.3\n"
     ]
    }
   ],
   "source": [
    "# Note: This solution file uses absolute file paths for compatibility.\n",
    "\n",
    "import sys\n",
    "import numpy as np\n",
    "import pandas as pd\n",
    "\n",
    "# Summarize software libraries used.\n",
    "print('Libraries used in this project:')\n",
    "print('- Python {}'.format(sys.version))\n",
    "print('- NumPy {}'.format(np.__version__))\n",
    "print('- pandas {}'.format(pd.__version__))"
   ]
  },
  {
   "cell_type": "markdown",
   "metadata": {},
   "source": [
    "# Load a CSV file as a `DataFrame`"
   ]
  },
  {
   "cell_type": "code",
   "execution_count": 2,
   "metadata": {},
   "outputs": [
    {
     "data": {
      "text/html": [
       "<div>\n",
       "<style scoped>\n",
       "    .dataframe tbody tr th:only-of-type {\n",
       "        vertical-align: middle;\n",
       "    }\n",
       "\n",
       "    .dataframe tbody tr th {\n",
       "        vertical-align: top;\n",
       "    }\n",
       "\n",
       "    .dataframe thead th {\n",
       "        text-align: right;\n",
       "    }\n",
       "</style>\n",
       "<table border=\"1\" class=\"dataframe\">\n",
       "  <thead>\n",
       "    <tr style=\"text-align: right;\">\n",
       "      <th></th>\n",
       "      <th>City</th>\n",
       "      <th>CustomerType</th>\n",
       "      <th>Gender</th>\n",
       "      <th>ProductLine</th>\n",
       "      <th>UnitPrice</th>\n",
       "      <th>Quantity</th>\n",
       "      <th>Tax</th>\n",
       "      <th>TotalPrice</th>\n",
       "      <th>Date</th>\n",
       "      <th>Revenue</th>\n",
       "      <th>COGS</th>\n",
       "    </tr>\n",
       "    <tr>\n",
       "      <th>InvoiceID</th>\n",
       "      <th></th>\n",
       "      <th></th>\n",
       "      <th></th>\n",
       "      <th></th>\n",
       "      <th></th>\n",
       "      <th></th>\n",
       "      <th></th>\n",
       "      <th></th>\n",
       "      <th></th>\n",
       "      <th></th>\n",
       "      <th></th>\n",
       "    </tr>\n",
       "  </thead>\n",
       "  <tbody>\n",
       "    <tr>\n",
       "      <th>OLI-CLO-005</th>\n",
       "      <td>Olinger</td>\n",
       "      <td>Member</td>\n",
       "      <td>Male</td>\n",
       "      <td>Clothing</td>\n",
       "      <td>48.71</td>\n",
       "      <td>1</td>\n",
       "      <td>2.44</td>\n",
       "      <td>51.15</td>\n",
       "      <td>3/26/2019</td>\n",
       "      <td>48.71</td>\n",
       "      <td>45.96</td>\n",
       "    </tr>\n",
       "    <tr>\n",
       "      <th>OLI-CLO-006</th>\n",
       "      <td>Olinger</td>\n",
       "      <td>Normal</td>\n",
       "      <td>Male</td>\n",
       "      <td>Clothing</td>\n",
       "      <td>78.55</td>\n",
       "      <td>9</td>\n",
       "      <td>35.35</td>\n",
       "      <td>742.30</td>\n",
       "      <td>3/1/2019</td>\n",
       "      <td>706.95</td>\n",
       "      <td>690.66</td>\n",
       "    </tr>\n",
       "    <tr>\n",
       "      <th>OLI-ELE-009</th>\n",
       "      <td>Olinger</td>\n",
       "      <td>Normal</td>\n",
       "      <td>Female</td>\n",
       "      <td>Electronics</td>\n",
       "      <td>23.07</td>\n",
       "      <td>9</td>\n",
       "      <td>10.38</td>\n",
       "      <td>218.01</td>\n",
       "      <td>2/1/2019</td>\n",
       "      <td>207.63</td>\n",
       "      <td>200.86</td>\n",
       "    </tr>\n",
       "    <tr>\n",
       "      <th>CAR-FBV-006</th>\n",
       "      <td>Carbon Creek</td>\n",
       "      <td>Normal</td>\n",
       "      <td>Male</td>\n",
       "      <td>Food and beverages</td>\n",
       "      <td>58.26</td>\n",
       "      <td>6</td>\n",
       "      <td>17.48</td>\n",
       "      <td>367.04</td>\n",
       "      <td>3/28/2019</td>\n",
       "      <td>349.56</td>\n",
       "      <td>336.31</td>\n",
       "    </tr>\n",
       "    <tr>\n",
       "      <th>GRC-HBE-006</th>\n",
       "      <td>Greene City</td>\n",
       "      <td>Normal</td>\n",
       "      <td>Male</td>\n",
       "      <td>Health and beauty</td>\n",
       "      <td>30.35</td>\n",
       "      <td>7</td>\n",
       "      <td>10.62</td>\n",
       "      <td>223.07</td>\n",
       "      <td>3/19/2019</td>\n",
       "      <td>212.45</td>\n",
       "      <td>206.67</td>\n",
       "    </tr>\n",
       "  </tbody>\n",
       "</table>\n",
       "</div>"
      ],
      "text/plain": [
       "                     City CustomerType  Gender         ProductLine  UnitPrice  \\\n",
       "InvoiceID                                                                       \n",
       "OLI-CLO-005       Olinger       Member    Male            Clothing      48.71   \n",
       "OLI-CLO-006       Olinger       Normal    Male            Clothing      78.55   \n",
       "OLI-ELE-009       Olinger       Normal  Female         Electronics      23.07   \n",
       "CAR-FBV-006  Carbon Creek       Normal    Male  Food and beverages      58.26   \n",
       "GRC-HBE-006   Greene City       Normal    Male   Health and beauty      30.35   \n",
       "\n",
       "             Quantity    Tax  TotalPrice       Date  Revenue    COGS  \n",
       "InvoiceID                                                             \n",
       "OLI-CLO-005         1   2.44       51.15  3/26/2019    48.71   45.96  \n",
       "OLI-CLO-006         9  35.35      742.30   3/1/2019   706.95  690.66  \n",
       "OLI-ELE-009         9  10.38      218.01   2/1/2019   207.63  200.86  \n",
       "CAR-FBV-006         6  17.48      367.04  3/28/2019   349.56  336.31  \n",
       "GRC-HBE-006         7  10.62      223.07  3/19/2019   212.45  206.67  "
      ]
     },
     "execution_count": 2,
     "metadata": {},
     "output_type": "execute_result"
    }
   ],
   "source": [
    "stores_df = pd.read_csv('..\\\\data\\\\stores_data.csv', index_col = 0)\n",
    "stores_df.head()"
   ]
  },
  {
   "cell_type": "code",
   "execution_count": 3,
   "metadata": {},
   "outputs": [
    {
     "name": "stdout",
     "output_type": "stream",
     "text": [
      "DataFrame shape: (200, 11)\n",
      "DataFrame size: 2200\n"
     ]
    }
   ],
   "source": [
    "print('DataFrame shape: {}'.format(stores_df.shape))\n",
    "print('DataFrame size: {}'.format(stores_df.size))"
   ]
  },
  {
   "cell_type": "code",
   "execution_count": 4,
   "metadata": {},
   "outputs": [
    {
     "data": {
      "text/plain": [
       "City             object\n",
       "CustomerType     object\n",
       "Gender           object\n",
       "ProductLine      object\n",
       "UnitPrice       float64\n",
       "Quantity          int64\n",
       "Tax             float64\n",
       "TotalPrice      float64\n",
       "Date             object\n",
       "Revenue         float64\n",
       "COGS            float64\n",
       "dtype: object"
      ]
     },
     "execution_count": 4,
     "metadata": {},
     "output_type": "execute_result"
    }
   ],
   "source": [
    "stores_df.dtypes"
   ]
  },
  {
   "cell_type": "code",
   "execution_count": 5,
   "metadata": {},
   "outputs": [
    {
     "data": {
      "text/plain": [
       "Index(['OLI-CLO-005', 'OLI-CLO-006', 'OLI-ELE-009', 'CAR-FBV-006',\n",
       "       'GRC-HBE-006', 'CAR-ELE-006', 'OLI-CLO-007', 'CAR-STR-009',\n",
       "       'OLI-FBV-008', 'OLI-ELE-010',\n",
       "       ...\n",
       "       'GRC-ELE-014', 'OLI-ELE-017', 'CAR-ELE-016', 'CAR-FBV-015',\n",
       "       'GRC-HBE-014', 'OLI-ELE-018', 'OLI-ELE-019', 'CAR-HML-025',\n",
       "       'CAR-HML-026', 'OLI-HML-014'],\n",
       "      dtype='object', name='InvoiceID', length=200)"
      ]
     },
     "execution_count": 5,
     "metadata": {},
     "output_type": "execute_result"
    }
   ],
   "source": [
    "stores_df.index"
   ]
  },
  {
   "cell_type": "markdown",
   "metadata": {},
   "source": [
    "# Save the `DataFrame` as a Microsoft Excel file"
   ]
  },
  {
   "cell_type": "code",
   "execution_count": 6,
   "metadata": {},
   "outputs": [
    {
     "ename": "ModuleNotFoundError",
     "evalue": "No module named 'openpyxl'",
     "output_type": "error",
     "traceback": [
      "\u001b[1;31m---------------------------------------------------------------------------\u001b[0m",
      "\u001b[1;31mModuleNotFoundError\u001b[0m                       Traceback (most recent call last)",
      "\u001b[1;32m~\\AppData\\Local\\Temp/ipykernel_21400/4055832288.py\u001b[0m in \u001b[0;36m<module>\u001b[1;34m\u001b[0m\n\u001b[1;32m----> 1\u001b[1;33m stores_df.to_excel('..\\\\data\\\\stores_data.xlsx', sheet_name = 'Stores Data',\n\u001b[0m\u001b[0;32m      2\u001b[0m                    freeze_panes = (1, 1))\n\u001b[0;32m      3\u001b[0m \u001b[0mprint\u001b[0m\u001b[1;33m(\u001b[0m\u001b[1;34m'DataFrame has been saved.'\u001b[0m\u001b[1;33m)\u001b[0m\u001b[1;33m\u001b[0m\u001b[1;33m\u001b[0m\u001b[0m\n",
      "\u001b[1;32mC:\\ProgramData\\Anaconda3\\envs\\r\\lib\\site-packages\\pandas\\core\\generic.py\u001b[0m in \u001b[0;36mto_excel\u001b[1;34m(self, excel_writer, sheet_name, na_rep, float_format, columns, header, index, index_label, startrow, startcol, engine, merge_cells, encoding, inf_rep, verbose, freeze_panes, storage_options)\u001b[0m\n\u001b[0;32m   2343\u001b[0m             \u001b[0minf_rep\u001b[0m\u001b[1;33m=\u001b[0m\u001b[0minf_rep\u001b[0m\u001b[1;33m,\u001b[0m\u001b[1;33m\u001b[0m\u001b[1;33m\u001b[0m\u001b[0m\n\u001b[0;32m   2344\u001b[0m         )\n\u001b[1;32m-> 2345\u001b[1;33m         formatter.write(\n\u001b[0m\u001b[0;32m   2346\u001b[0m             \u001b[0mexcel_writer\u001b[0m\u001b[1;33m,\u001b[0m\u001b[1;33m\u001b[0m\u001b[1;33m\u001b[0m\u001b[0m\n\u001b[0;32m   2347\u001b[0m             \u001b[0msheet_name\u001b[0m\u001b[1;33m=\u001b[0m\u001b[0msheet_name\u001b[0m\u001b[1;33m,\u001b[0m\u001b[1;33m\u001b[0m\u001b[1;33m\u001b[0m\u001b[0m\n",
      "\u001b[1;32mC:\\ProgramData\\Anaconda3\\envs\\r\\lib\\site-packages\\pandas\\io\\formats\\excel.py\u001b[0m in \u001b[0;36mwrite\u001b[1;34m(self, writer, sheet_name, startrow, startcol, freeze_panes, engine, storage_options)\u001b[0m\n\u001b[0;32m    886\u001b[0m             \u001b[1;31m# error: Cannot instantiate abstract class 'ExcelWriter' with abstract\u001b[0m\u001b[1;33m\u001b[0m\u001b[1;33m\u001b[0m\u001b[0m\n\u001b[0;32m    887\u001b[0m             \u001b[1;31m# attributes 'engine', 'save', 'supported_extensions' and 'write_cells'\u001b[0m\u001b[1;33m\u001b[0m\u001b[1;33m\u001b[0m\u001b[0m\n\u001b[1;32m--> 888\u001b[1;33m             writer = ExcelWriter(  # type: ignore[abstract]\n\u001b[0m\u001b[0;32m    889\u001b[0m                 \u001b[0mwriter\u001b[0m\u001b[1;33m,\u001b[0m \u001b[0mengine\u001b[0m\u001b[1;33m=\u001b[0m\u001b[0mengine\u001b[0m\u001b[1;33m,\u001b[0m \u001b[0mstorage_options\u001b[0m\u001b[1;33m=\u001b[0m\u001b[0mstorage_options\u001b[0m\u001b[1;33m\u001b[0m\u001b[1;33m\u001b[0m\u001b[0m\n\u001b[0;32m    890\u001b[0m             )\n",
      "\u001b[1;32mC:\\ProgramData\\Anaconda3\\envs\\r\\lib\\site-packages\\pandas\\io\\excel\\_openpyxl.py\u001b[0m in \u001b[0;36m__init__\u001b[1;34m(self, path, engine, date_format, datetime_format, mode, storage_options, if_sheet_exists, engine_kwargs, **kwargs)\u001b[0m\n\u001b[0;32m     47\u001b[0m     ):\n\u001b[0;32m     48\u001b[0m         \u001b[1;31m# Use the openpyxl module as the Excel writer.\u001b[0m\u001b[1;33m\u001b[0m\u001b[1;33m\u001b[0m\u001b[0m\n\u001b[1;32m---> 49\u001b[1;33m         \u001b[1;32mfrom\u001b[0m \u001b[0mopenpyxl\u001b[0m\u001b[1;33m.\u001b[0m\u001b[0mworkbook\u001b[0m \u001b[1;32mimport\u001b[0m \u001b[0mWorkbook\u001b[0m\u001b[1;33m\u001b[0m\u001b[1;33m\u001b[0m\u001b[0m\n\u001b[0m\u001b[0;32m     50\u001b[0m \u001b[1;33m\u001b[0m\u001b[0m\n\u001b[0;32m     51\u001b[0m         \u001b[0mengine_kwargs\u001b[0m \u001b[1;33m=\u001b[0m \u001b[0mcombine_kwargs\u001b[0m\u001b[1;33m(\u001b[0m\u001b[0mengine_kwargs\u001b[0m\u001b[1;33m,\u001b[0m \u001b[0mkwargs\u001b[0m\u001b[1;33m)\u001b[0m\u001b[1;33m\u001b[0m\u001b[1;33m\u001b[0m\u001b[0m\n",
      "\u001b[1;31mModuleNotFoundError\u001b[0m: No module named 'openpyxl'"
     ]
    }
   ],
   "source": [
    "stores_df.to_excel('..\\\\data\\\\stores_data.xlsx', sheet_name = 'Stores Data',\n",
    "                   freeze_panes = (1, 1))\n",
    "print('DataFrame has been saved.')"
   ]
  }
 ],
 "metadata": {
  "kernelspec": {
   "display_name": "Python 3 (ipykernel)",
   "language": "python",
   "name": "python3"
  },
  "language_info": {
   "codemirror_mode": {
    "name": "ipython",
    "version": 3
   },
   "file_extension": ".py",
   "mimetype": "text/x-python",
   "name": "python",
   "nbconvert_exporter": "python",
   "pygments_lexer": "ipython3",
   "version": "3.9.7"
  }
 },
 "nbformat": 4,
 "nbformat_minor": 2
}
