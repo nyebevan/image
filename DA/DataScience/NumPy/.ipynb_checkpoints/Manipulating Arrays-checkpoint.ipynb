{
 "cells": [
  {
   "cell_type": "markdown",
   "metadata": {},
   "source": [
    "# Import software libraries and load the datasets"
   ]
  },
  {
   "cell_type": "code",
   "execution_count": null,
   "metadata": {},
   "outputs": [],
   "source": [
    "import sys\n",
    "import numpy as np\n",
    "\n",
    "# Summarize software libraries used.\n",
    "print('Libraries used in this project:')\n",
    "print('- Python {}'.format(sys.version))\n",
    "print('- NumPy {}'.format(np.__version__))\n",
    "\n",
    "# Load the datasets.\n",
    "ratings = np.load('/home/student/DSTIP/NumPy/data/customer_ratings.npy')\n",
    "prices = np.loadtxt('/home/student/DSTIP/NumPy/data/unit_tax_total.csv',\n",
    "                    delimiter = ',')\n",
    "revenue_cogs = np.loadtxt('/home/student/DSTIP/NumPy/data/revenue_cogs.csv',\n",
    "                          delimiter = ',')\n",
    "print('\\nLoaded datasets.')\n",
    "\n",
    "# Print floats using fixed-point notation.\n",
    "np.set_printoptions(suppress = True)"
   ]
  },
  {
   "cell_type": "markdown",
   "metadata": {},
   "source": [
    "# Concatenate `prices` with `revenue_cogs`"
   ]
  },
  {
   "cell_type": "code",
   "execution_count": null,
   "metadata": {},
   "outputs": [],
   "source": []
  },
  {
   "cell_type": "code",
   "execution_count": null,
   "metadata": {},
   "outputs": [],
   "source": [
    "print('Shape of revenue_cogs: {}'.format())\n",
    "print('Shape of prices: {}'.format())"
   ]
  },
  {
   "cell_type": "code",
   "execution_count": null,
   "metadata": {},
   "outputs": [],
   "source": [
    "\n",
    "print('First 5 columns of stacked array:\\n {}'.format())\n",
    "print('\\nShape of finances: {}'.format())"
   ]
  },
  {
   "cell_type": "markdown",
   "metadata": {},
   "source": [
    "# Transpose `finances` so it's in a more readable format"
   ]
  },
  {
   "cell_type": "code",
   "execution_count": null,
   "metadata": {},
   "outputs": [],
   "source": [
    "\n",
    "print('First 10 rows of finances:\\n {}'.format())\n",
    "print('\\nShape of finances: {}'.format())"
   ]
  },
  {
   "cell_type": "markdown",
   "metadata": {},
   "source": [
    "# Split `finances` into multiple arrays"
   ]
  },
  {
   "cell_type": "code",
   "execution_count": null,
   "metadata": {},
   "outputs": [],
   "source": []
  },
  {
   "cell_type": "code",
   "execution_count": null,
   "metadata": {},
   "outputs": [],
   "source": [
    "print('Number of arrays after split: {}.'.format())"
   ]
  },
  {
   "cell_type": "code",
   "execution_count": null,
   "metadata": {},
   "outputs": [],
   "source": [
    "print('Unit and tax prices:\\n {}'.format())\n",
    "print('\\nTotal prices and revenue:\\n {}'.format())\n",
    "print('\\nCOGS:\\n {}'.format())"
   ]
  },
  {
   "cell_type": "markdown",
   "metadata": {},
   "source": [
    "# Make the split arrays copies instead of views"
   ]
  },
  {
   "cell_type": "code",
   "execution_count": null,
   "metadata": {},
   "outputs": [],
   "source": [
    "def view_copy_test(split_arr, new_price):\n",
    "    print('First unit price in finances (before): {}.' \\\n",
    "          .format())\n",
    "\n",
    "    # Use split to change first unit price.\n",
    "    \n",
    "\n",
    "    print('First unit price in finances (after): {}.' \\\n",
    "          .format())\n",
    "    \n"
   ]
  },
  {
   "cell_type": "code",
   "execution_count": null,
   "metadata": {},
   "outputs": [],
   "source": [
    "\n",
    "\n",
    "\n",
    "print('Split variables defined.')"
   ]
  },
  {
   "cell_type": "code",
   "execution_count": null,
   "metadata": {},
   "outputs": [],
   "source": [
    "# Set price back to what it was.\n",
    "\n",
    "\n"
   ]
  },
  {
   "cell_type": "markdown",
   "metadata": {},
   "source": [
    "# Append the `ratings` array to `finances`"
   ]
  },
  {
   "cell_type": "code",
   "execution_count": null,
   "metadata": {},
   "outputs": [],
   "source": [
    "print('Shape of ratings: {}'.format())\n",
    "print('Shape of finances: {}'.format())"
   ]
  },
  {
   "cell_type": "code",
   "execution_count": null,
   "metadata": {},
   "outputs": [],
   "source": [
    "\n",
    "\n"
   ]
  },
  {
   "cell_type": "markdown",
   "metadata": {},
   "source": [
    "# Sort columns and rows in `finances_and_ratings`"
   ]
  },
  {
   "cell_type": "code",
   "execution_count": null,
   "metadata": {},
   "outputs": [],
   "source": [
    "  # Slice first 5 rows.\n",
    "\n",
    "\n",
    "print('Unsorted:\\n {}'.format())\n",
    "print('\\nSorted by columns:\\n {}'.format())\n",
    "print('\\nSorted by rows:\\n {}'.format())"
   ]
  },
  {
   "cell_type": "markdown",
   "metadata": {},
   "source": [
    "# Sort `finances_and_ratings` by customer ratings"
   ]
  },
  {
   "cell_type": "code",
   "execution_count": null,
   "metadata": {},
   "outputs": [],
   "source": [
    "\n"
   ]
  },
  {
   "cell_type": "code",
   "execution_count": null,
   "metadata": {},
   "outputs": [],
   "source": [
    "\n"
   ]
  },
  {
   "cell_type": "code",
   "execution_count": null,
   "metadata": {},
   "outputs": [],
   "source": [
    "print('Row index of lowest rating (first occurrence): {}.' \\\n",
    "      .format())"
   ]
  },
  {
   "cell_type": "code",
   "execution_count": null,
   "metadata": {
    "scrolled": true
   },
   "outputs": [],
   "source": [
    "print('Row from initial array:\\n {}' \\\n",
    "      .format())\n",
    "print('\\nRow from sorted array:\\n {}' \\\n",
    "      .format())"
   ]
  }
 ],
 "metadata": {
  "kernelspec": {
   "display_name": "Python 3 (ipykernel)",
   "language": "python",
   "name": "python3"
  },
  "language_info": {
   "codemirror_mode": {
    "name": "ipython",
    "version": 3
   },
   "file_extension": ".py",
   "mimetype": "text/x-python",
   "name": "python",
   "nbconvert_exporter": "python",
   "pygments_lexer": "ipython3",
   "version": "3.9.7"
  }
 },
 "nbformat": 4,
 "nbformat_minor": 2
}
