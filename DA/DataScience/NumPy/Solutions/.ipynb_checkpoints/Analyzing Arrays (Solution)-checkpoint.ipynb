{
 "cells": [
  {
   "cell_type": "markdown",
   "metadata": {},
   "source": [
    "# Import software libraries and load the datasets"
   ]
  },
  {
   "cell_type": "code",
   "execution_count": null,
   "metadata": {},
   "outputs": [],
   "source": [
    "import sys\n",
    "import numpy as np\n",
    "\n",
    "# Summarize software libraries used.\n",
    "print('Libraries used in this project:')\n",
    "print('- Python {}'.format(sys.version))\n",
    "print('- NumPy {}'.format(np.__version__))\n",
    "\n",
    "# Load the datasets.\n",
    "ratings = np.load('/home/student/DSTIP/NumPy/data/customer_ratings.npy')\n",
    "prices = np.loadtxt('/home/student/DSTIP/NumPy/data/unit_tax_total.csv',\n",
    "                    delimiter = ',')\n",
    "print('\\nLoaded ratings and prices datasets.')\n",
    "\n",
    "# Print floats using fixed-point notation.\n",
    "np.set_printoptions(suppress = True)"
   ]
  },
  {
   "cell_type": "markdown",
   "metadata": {},
   "source": [
    "# Confirm the speed advantage of vectorization"
   ]
  },
  {
   "cell_type": "code",
   "execution_count": null,
   "metadata": {},
   "outputs": [],
   "source": [
    "%%time\n",
    "arr_sum = 0\n",
    "for i in np.arange(1, 1e7):\n",
    "    arr_sum += i\n",
    "arr_sum"
   ]
  },
  {
   "cell_type": "code",
   "execution_count": null,
   "metadata": {},
   "outputs": [],
   "source": [
    "%%time\n",
    "arr_sum = np.sum(np.arange(1, 1e7))\n",
    "arr_sum"
   ]
  },
  {
   "cell_type": "markdown",
   "metadata": {},
   "source": [
    "# Use indexing to retrieve individual customer ratings"
   ]
  },
  {
   "cell_type": "code",
   "execution_count": null,
   "metadata": {},
   "outputs": [],
   "source": [
    "ratings"
   ]
  },
  {
   "cell_type": "code",
   "execution_count": null,
   "metadata": {},
   "outputs": [],
   "source": [
    "print('First customer rating: {}.'.format(ratings[0]))\n",
    "print('Ninth customer rating: {}.'.format(ratings[8]))"
   ]
  },
  {
   "cell_type": "code",
   "execution_count": null,
   "metadata": {},
   "outputs": [],
   "source": [
    "print('First and ninth customer ratings: {}'.format(ratings[[0, 8]]))"
   ]
  },
  {
   "cell_type": "markdown",
   "metadata": {},
   "source": [
    "# Use slicing to retrieve multiple customer ratings"
   ]
  },
  {
   "cell_type": "code",
   "execution_count": null,
   "metadata": {},
   "outputs": [],
   "source": [
    "print('The first 10 ratings are: {}'.format(ratings[0:10:1]))\n",
    "\n",
    "# Streamlined notation.\n",
    "print('\\nThe first 10 ratings are: {}'.format(ratings[:10]))\n",
    "\n",
    "print('\\nRatings 20 through 30 are: {}'.format(ratings[19:30]))\n",
    "print('\\nObject type: {}'.format(type(ratings[19:30])))"
   ]
  },
  {
   "cell_type": "code",
   "execution_count": null,
   "metadata": {},
   "outputs": [],
   "source": [
    "print('Every other rating:\\n {}'.format(ratings[::2]))\n",
    "print('\\nEvery third rating between 10 and 50:\\n {}' \\\n",
    "      .format(ratings[9:50:3]))"
   ]
  },
  {
   "cell_type": "markdown",
   "metadata": {},
   "source": [
    "# Index a multi-dimensional array"
   ]
  },
  {
   "cell_type": "code",
   "execution_count": null,
   "metadata": {},
   "outputs": [],
   "source": [
    "prices"
   ]
  },
  {
   "cell_type": "code",
   "execution_count": null,
   "metadata": {},
   "outputs": [],
   "source": [
    "print('First unit price: ${}.'.format(prices[0, 0]))\n",
    "print('Third tax price: ${}.'.format(prices[1, 2]))\n",
    "print('Ninth total price: ${}.'.format(prices[2, 8]))"
   ]
  },
  {
   "cell_type": "code",
   "execution_count": null,
   "metadata": {},
   "outputs": [],
   "source": [
    "row = np.array([0, 1, 2])\n",
    "col = np.array([0, 2, 8])\n",
    "print('First unit price, third tax price, and ninth total price:\\n {}' \\\n",
    "      .format(prices[row, col]))"
   ]
  },
  {
   "cell_type": "markdown",
   "metadata": {},
   "source": [
    "# Slice a multi-dimensional array"
   ]
  },
  {
   "cell_type": "code",
   "execution_count": null,
   "metadata": {},
   "outputs": [],
   "source": [
    "print('First 10 sale prices:\\n {}'.format(prices[0, :9]))\n",
    "print('\\nTax prices from 10 to 20:\\n {}'.format(prices[1, 9:19]))"
   ]
  },
  {
   "cell_type": "code",
   "execution_count": null,
   "metadata": {},
   "outputs": [],
   "source": [
    "print('First 10 tax prices and total prices:\\n {}' \\\n",
    "      .format(prices[1:3, :10]))"
   ]
  },
  {
   "cell_type": "markdown",
   "metadata": {},
   "source": [
    "# Summarize statistics about the pricing data"
   ]
  },
  {
   "cell_type": "code",
   "execution_count": null,
   "metadata": {},
   "outputs": [],
   "source": [
    "low = np.amin(prices[0])\n",
    "high = np.amax(prices[0])\n",
    "print('The lowest unit price is: ${:.2f}.'.format(low))\n",
    "print('The highest unit price is: ${:.2f}.'.format(high))"
   ]
  },
  {
   "cell_type": "code",
   "execution_count": null,
   "metadata": {},
   "outputs": [],
   "source": [
    "mean = prices[1].mean()\n",
    "median = np.median(prices[1])\n",
    "print('The mean tax price is: ${:.2f}.'.format(mean))\n",
    "print('The median tax price is: ${:.2f}.'.format(median))"
   ]
  },
  {
   "cell_type": "code",
   "execution_count": null,
   "metadata": {},
   "outputs": [],
   "source": [
    "std = prices[2].std()\n",
    "var = prices[2].var()\n",
    "print('The standard deviation of total price is: {:.4f}.'.format(std))\n",
    "print('The variance of total price is: {:.4f}.'.format(var))"
   ]
  },
  {
   "cell_type": "code",
   "execution_count": null,
   "metadata": {},
   "outputs": [],
   "source": [
    "total = prices[2].sum()\n",
    "print('Total sales: ${:.2f}.'.format(total))"
   ]
  }
 ],
 "metadata": {
  "kernelspec": {
   "display_name": "Python 3 (ipykernel)",
   "language": "python",
   "name": "python3"
  },
  "language_info": {
   "codemirror_mode": {
    "name": "ipython",
    "version": 3
   },
   "file_extension": ".py",
   "mimetype": "text/x-python",
   "name": "python",
   "nbconvert_exporter": "python",
   "pygments_lexer": "ipython3",
   "version": "3.9.7"
  }
 },
 "nbformat": 4,
 "nbformat_minor": 2
}
