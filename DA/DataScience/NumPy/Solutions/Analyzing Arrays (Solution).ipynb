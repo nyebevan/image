{
 "cells": [
  {
   "cell_type": "markdown",
   "metadata": {},
   "source": [
    "# Import software libraries and load the datasets"
   ]
  },
  {
   "cell_type": "code",
   "execution_count": 1,
   "metadata": {},
   "outputs": [
    {
     "name": "stdout",
     "output_type": "stream",
     "text": [
      "Libraries used in this project:\n",
      "- Python 3.9.7 (default, Sep 16 2021, 16:59:28) [MSC v.1916 64 bit (AMD64)]\n",
      "- NumPy 1.22.3\n",
      "\n",
      "Loaded ratings and prices datasets.\n"
     ]
    }
   ],
   "source": [
    "import sys\n",
    "import numpy as np\n",
    "\n",
    "# Summarize software libraries used.\n",
    "print('Libraries used in this project:')\n",
    "print('- Python {}'.format(sys.version))\n",
    "print('- NumPy {}'.format(np.__version__))\n",
    "\n",
    "# Load the datasets.\n",
    "ratings = np.load('../data/customer_ratings.npy')\n",
    "prices = np.loadtxt('../data/unit_tax_total.csv',\n",
    "                    delimiter = ',')\n",
    "print('\\nLoaded ratings and prices datasets.')\n",
    "\n",
    "# Print floats using fixed-point notation.\n",
    "np.set_printoptions(suppress = True)"
   ]
  },
  {
   "cell_type": "markdown",
   "metadata": {},
   "source": [
    "# Confirm the speed advantage of vectorization"
   ]
  },
  {
   "cell_type": "code",
   "execution_count": null,
   "metadata": {},
   "outputs": [],
   "source": [
    "%%time\n",
    "arr_sum = 0\n",
    "for i in np.arange(1, 1e7):\n",
    "    arr_sum += i\n",
    "arr_sum"
   ]
  },
  {
   "cell_type": "code",
   "execution_count": null,
   "metadata": {},
   "outputs": [],
   "source": [
    "%%time\n",
    "arr_sum = np.sum(np.arange(1, 1e7))\n",
    "arr_sum"
   ]
  },
  {
   "cell_type": "markdown",
   "metadata": {},
   "source": [
    "# Use indexing to retrieve individual customer ratings"
   ]
  },
  {
   "cell_type": "code",
   "execution_count": 2,
   "metadata": {},
   "outputs": [
    {
     "data": {
      "text/plain": [
       "array([ 9.1,  9.6,  7.4,  8.4,  5.3,  4.1,  5.8,  8. ,  7.2,  5.9,  4.5,\n",
       "        6.8,  7.1,  8.2,  5.7,  4.5,  4.6,  6.9,  8.6,  4.4,  4.8,  5.1,\n",
       "        4.4,  9.9,  6. ,  8.5,  6.7,  7.7,  9.6,  7.4,  4.8,  4.5,  5.1,\n",
       "        5.1,  7.5,  6.8,  7. ,  4.7,  7.6,  7.7,  7.9,  6.3,  5.6,  7.6,\n",
       "        7.2,  9.5,  8.4,  4.1,  8.1,  7.9,  9.5,  8.5,  6.5,  6.1,  6.5,\n",
       "        8.2,  5.8,  6.6,  5.4,  9.3, 10. ,  7. , 10. ,  8.6,  7.6,  5.8,\n",
       "        6.7,  9.9,  6.4,  4.3,  9.6,  5.9,  4. ,  8.7,  9.4,  5.4,  8.6,\n",
       "        5.7,  6.6,  6. ,  5.5,  6.4,  6.6,  8.3,  6.6,  4. ,  9.9,  7.3,\n",
       "        5.7,  6.1,  7.1,  8.2,  5.1,  8.6,  6.6,  7.2,  5.1,  4.1,  9.3,\n",
       "        7.4])"
      ]
     },
     "execution_count": 2,
     "metadata": {},
     "output_type": "execute_result"
    }
   ],
   "source": [
    "ratings"
   ]
  },
  {
   "cell_type": "code",
   "execution_count": 3,
   "metadata": {},
   "outputs": [
    {
     "name": "stdout",
     "output_type": "stream",
     "text": [
      "First customer rating: 9.1.\n",
      "Ninth customer rating: 7.2.\n"
     ]
    }
   ],
   "source": [
    "print('First customer rating: {}.'.format(ratings[0]))\n",
    "print('Ninth customer rating: {}.'.format(ratings[8]))"
   ]
  },
  {
   "cell_type": "code",
   "execution_count": 4,
   "metadata": {},
   "outputs": [
    {
     "name": "stdout",
     "output_type": "stream",
     "text": [
      "First and ninth customer ratings: [9.1 7.2]\n"
     ]
    }
   ],
   "source": [
    "print('First and ninth customer ratings: {}'.format(ratings[[0, 8]]))"
   ]
  },
  {
   "cell_type": "markdown",
   "metadata": {},
   "source": [
    "# Use slicing to retrieve multiple customer ratings"
   ]
  },
  {
   "cell_type": "code",
   "execution_count": 5,
   "metadata": {},
   "outputs": [
    {
     "name": "stdout",
     "output_type": "stream",
     "text": [
      "The first 10 ratings are: [9.1 9.6 7.4 8.4 5.3 4.1 5.8 8.  7.2 5.9]\n",
      "\n",
      "The first 10 ratings are: [9.1 9.6 7.4 8.4 5.3 4.1 5.8 8.  7.2 5.9]\n",
      "\n",
      "Ratings 20 through 30 are: [4.4 4.8 5.1 4.4 9.9 6.  8.5 6.7 7.7 9.6 7.4]\n",
      "\n",
      "Object type: <class 'numpy.ndarray'>\n"
     ]
    }
   ],
   "source": [
    "print('The first 10 ratings are: {}'.format(ratings[0:10:1]))\n",
    "\n",
    "# Streamlined notation.\n",
    "print('\\nThe first 10 ratings are: {}'.format(ratings[:10]))\n",
    "\n",
    "print('\\nRatings 20 through 30 are: {}'.format(ratings[19:30]))\n",
    "print('\\nObject type: {}'.format(type(ratings[19:30])))"
   ]
  },
  {
   "cell_type": "code",
   "execution_count": null,
   "metadata": {},
   "outputs": [],
   "source": [
    "print('Every other rating:\\n {}'.format(ratings[::2]))\n",
    "print('\\nEvery third rating between 10 and 50:\\n {}' \\\n",
    "      .format(ratings[9:50:3]))"
   ]
  },
  {
   "cell_type": "markdown",
   "metadata": {},
   "source": [
    "# Index a multi-dimensional array"
   ]
  },
  {
   "cell_type": "code",
   "execution_count": null,
   "metadata": {},
   "outputs": [],
   "source": [
    "prices"
   ]
  },
  {
   "cell_type": "code",
   "execution_count": null,
   "metadata": {},
   "outputs": [],
   "source": [
    "print('First unit price: ${}.'.format(prices[0, 0]))\n",
    "print('Third tax price: ${}.'.format(prices[1, 2]))\n",
    "print('Ninth total price: ${}.'.format(prices[2, 8]))"
   ]
  },
  {
   "cell_type": "code",
   "execution_count": null,
   "metadata": {},
   "outputs": [],
   "source": [
    "row = np.array([0, 1, 2])\n",
    "col = np.array([0, 2, 8])\n",
    "print('First unit price, third tax price, and ninth total price:\\n {}' \\\n",
    "      .format(prices[row, col]))"
   ]
  },
  {
   "cell_type": "markdown",
   "metadata": {},
   "source": [
    "# Slice a multi-dimensional array"
   ]
  },
  {
   "cell_type": "code",
   "execution_count": null,
   "metadata": {},
   "outputs": [],
   "source": [
    "print('First 10 sale prices:\\n {}'.format(prices[0, :9]))\n",
    "print('\\nTax prices from 10 to 20:\\n {}'.format(prices[1, 9:19]))"
   ]
  },
  {
   "cell_type": "code",
   "execution_count": null,
   "metadata": {},
   "outputs": [],
   "source": [
    "print('First 10 tax prices and total prices:\\n {}' \\\n",
    "      .format(prices[1:3, :10]))"
   ]
  },
  {
   "cell_type": "markdown",
   "metadata": {},
   "source": [
    "# Summarize statistics about the pricing data"
   ]
  },
  {
   "cell_type": "code",
   "execution_count": null,
   "metadata": {},
   "outputs": [],
   "source": [
    "low = np.amin(prices[0])\n",
    "high = np.amax(prices[0])\n",
    "print('The lowest unit price is: ${:.2f}.'.format(low))\n",
    "print('The highest unit price is: ${:.2f}.'.format(high))"
   ]
  },
  {
   "cell_type": "code",
   "execution_count": null,
   "metadata": {},
   "outputs": [],
   "source": [
    "mean = prices[1].mean()\n",
    "median = np.median(prices[1])\n",
    "print('The mean tax price is: ${:.2f}.'.format(mean))\n",
    "print('The median tax price is: ${:.2f}.'.format(median))"
   ]
  },
  {
   "cell_type": "code",
   "execution_count": null,
   "metadata": {},
   "outputs": [],
   "source": [
    "std = prices[2].std()\n",
    "var = prices[2].var()\n",
    "print('The standard deviation of total price is: {:.4f}.'.format(std))\n",
    "print('The variance of total price is: {:.4f}.'.format(var))"
   ]
  },
  {
   "cell_type": "code",
   "execution_count": null,
   "metadata": {},
   "outputs": [],
   "source": [
    "total = prices[2].sum()\n",
    "print('Total sales: ${:.2f}.'.format(total))"
   ]
  }
 ],
 "metadata": {
  "kernelspec": {
   "display_name": "Python 3 (ipykernel)",
   "language": "python",
   "name": "python3"
  },
  "language_info": {
   "codemirror_mode": {
    "name": "ipython",
    "version": 3
   },
   "file_extension": ".py",
   "mimetype": "text/x-python",
   "name": "python",
   "nbconvert_exporter": "python",
   "pygments_lexer": "ipython3",
   "version": "3.9.7"
  }
 },
 "nbformat": 4,
 "nbformat_minor": 2
}
