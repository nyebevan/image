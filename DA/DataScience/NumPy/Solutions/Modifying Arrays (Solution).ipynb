{
 "cells": [
  {
   "cell_type": "markdown",
   "metadata": {},
   "source": [
    "# Import software libraries and load the datasets"
   ]
  },
  {
   "cell_type": "code",
   "execution_count": null,
   "metadata": {},
   "outputs": [],
   "source": [
    "import sys\n",
    "import numpy as np\n",
    "\n",
    "# Summarize software libraries used.\n",
    "print('Libraries used in this project:')\n",
    "print('- Python {}'.format(sys.version))\n",
    "print('- NumPy {}'.format(np.__version__))\n",
    "\n",
    "# Load the datasets.\n",
    "unit_and_tax = np.loadtxt('/home/student/DSTIP/NumPy/data/unit_and_tax.csv',\n",
    "                          delimiter = ',')\n",
    "total_and_rev = np.loadtxt('/home/student/DSTIP/NumPy/data/total_and_rev.csv',\n",
    "                           delimiter = ',')\n",
    "cogs = np.loadtxt('/home/student/DSTIP/NumPy/data/cogs.csv',\n",
    "                  delimiter = ',')\n",
    "quantity = np.loadtxt('/home/student/DSTIP/NumPy/data/quantity.csv',\n",
    "                      delimiter = ',')\n",
    "print('\\nLoaded datasets.')\n",
    "\n",
    "# Print floats using fixed-point notation.\n",
    "np.set_printoptions(suppress = True)"
   ]
  },
  {
   "cell_type": "markdown",
   "metadata": {},
   "source": [
    "# Insert `quantity` between unit price and tax price"
   ]
  },
  {
   "cell_type": "code",
   "execution_count": null,
   "metadata": {},
   "outputs": [],
   "source": [
    "print('Quantity array:\\n {}'.format(quantity))\n",
    "print('\\nRow example from unit and tax prices:\\n {}' \\\n",
    "      .format(unit_and_tax[0, :]))"
   ]
  },
  {
   "cell_type": "code",
   "execution_count": null,
   "metadata": {},
   "outputs": [],
   "source": [
    "unit_and_tax = np.insert(unit_and_tax, 1, quantity, axis = 1)\n",
    "unit_and_tax[:10, :]"
   ]
  },
  {
   "cell_type": "markdown",
   "metadata": {},
   "source": [
    "# Adjust the pricing for the new tax rate"
   ]
  },
  {
   "cell_type": "code",
   "execution_count": null,
   "metadata": {},
   "outputs": [],
   "source": [
    "new_tax_rate = .06\n",
    "new_tax_prices = unit_and_tax[:, 0] * unit_and_tax[:, 1] * new_tax_rate\n",
    "np.around(new_tax_prices, 2)"
   ]
  },
  {
   "cell_type": "code",
   "execution_count": null,
   "metadata": {},
   "outputs": [],
   "source": [
    "unit_and_tax[:, 2] = np.around(new_tax_prices, 2)\n",
    "unit_and_tax[:10, :]"
   ]
  },
  {
   "cell_type": "code",
   "execution_count": null,
   "metadata": {},
   "outputs": [],
   "source": [
    "total_and_rev[:10, :]"
   ]
  },
  {
   "cell_type": "code",
   "execution_count": null,
   "metadata": {},
   "outputs": [],
   "source": [
    "total_and_rev[:, 0] = unit_and_tax[:, 0] * \\\n",
    "                      unit_and_tax[:, 1] + unit_and_tax[:, 2]\n",
    "total_and_rev[:10, :]"
   ]
  },
  {
   "cell_type": "markdown",
   "metadata": {},
   "source": [
    "# Identify and remove anomalous entries"
   ]
  },
  {
   "cell_type": "code",
   "execution_count": null,
   "metadata": {},
   "outputs": [],
   "source": [
    "quant_err = unit_and_tax[:, 1] < 1\n",
    "quant_err"
   ]
  },
  {
   "cell_type": "code",
   "execution_count": null,
   "metadata": {},
   "outputs": [],
   "source": [
    "unit_and_tax[quant_err]"
   ]
  },
  {
   "cell_type": "code",
   "execution_count": null,
   "metadata": {},
   "outputs": [],
   "source": [
    "err_ind = np.where(quant_err)\n",
    "err_ind"
   ]
  },
  {
   "cell_type": "code",
   "execution_count": null,
   "metadata": {},
   "outputs": [],
   "source": [
    "unit_and_tax = np.delete(unit_and_tax, err_ind, axis = 0)\n",
    "total_and_rev = np.delete(total_and_rev, err_ind, axis = 0)\n",
    "cogs = np.delete(cogs, err_ind, axis = 0)\n",
    "print(unit_and_tax[:, 1] < 1)\n",
    "print('\\nRows remaining: {}.'.format(unit_and_tax.shape[0]))"
   ]
  },
  {
   "cell_type": "markdown",
   "metadata": {},
   "source": [
    "# Identify losses"
   ]
  },
  {
   "cell_type": "code",
   "execution_count": null,
   "metadata": {},
   "outputs": [],
   "source": [
    "# See if arrays are compatible for broadcasting.\n",
    "print('Shape of total_and_rev array: {}' \\\n",
    "      .format(total_and_rev.shape))\n",
    "print('Shape of cogs array: {}'.format(cogs.shape))"
   ]
  },
  {
   "cell_type": "code",
   "execution_count": null,
   "metadata": {},
   "outputs": [],
   "source": [
    "rev = total_and_rev[:, 1]\n",
    "print('Shape of rev array: {}'.format(rev.shape))"
   ]
  },
  {
   "cell_type": "code",
   "execution_count": null,
   "metadata": {},
   "outputs": [],
   "source": [
    "loss_arr = rev < cogs\n",
    "loss_arr"
   ]
  },
  {
   "cell_type": "code",
   "execution_count": null,
   "metadata": {},
   "outputs": [],
   "source": [
    "loss_amount = rev[loss_arr] - cogs[loss_arr]\n",
    "print('Revenue: {}'.format(rev[loss_arr]))\n",
    "print('COGS:    {}'.format(cogs[loss_arr]))\n",
    "print('Loss:    {}'.format(loss_amount))"
   ]
  },
  {
   "cell_type": "markdown",
   "metadata": {},
   "source": [
    "# Identify high-quantity or high-COGS purchases and determine profit"
   ]
  },
  {
   "cell_type": "code",
   "execution_count": null,
   "metadata": {},
   "outputs": [],
   "source": [
    "unit_and_quant = unit_and_tax[:, :2]\n",
    "high = (cogs >= 700) | (unit_and_tax[:, 1] >= 10)\n",
    "stack = (unit_and_quant[high],\n",
    "         cogs[high].reshape(len(cogs[high]), 1))\n",
    "high_arr = np.hstack(stack)\n",
    "high_arr"
   ]
  },
  {
   "cell_type": "code",
   "execution_count": null,
   "metadata": {
    "scrolled": true
   },
   "outputs": [],
   "source": [
    "gross_income = rev[high] - cogs[high]\n",
    "gross_income = gross_income.reshape(len(gross_income), 1)\n",
    "np.hstack((high_arr, gross_income))"
   ]
  }
 ],
 "metadata": {
  "kernelspec": {
   "display_name": "Python 3 (ipykernel)",
   "language": "python",
   "name": "python3"
  },
  "language_info": {
   "codemirror_mode": {
    "name": "ipython",
    "version": 3
   },
   "file_extension": ".py",
   "mimetype": "text/x-python",
   "name": "python",
   "nbconvert_exporter": "python",
   "pygments_lexer": "ipython3",
   "version": "3.9.7"
  }
 },
 "nbformat": 4,
 "nbformat_minor": 2
}
