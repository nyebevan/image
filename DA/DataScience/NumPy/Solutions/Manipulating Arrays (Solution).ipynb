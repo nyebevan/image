{
 "cells": [
  {
   "cell_type": "markdown",
   "metadata": {},
   "source": [
    "# Import software libraries and load the datasets"
   ]
  },
  {
   "cell_type": "code",
   "execution_count": null,
   "metadata": {},
   "outputs": [],
   "source": [
    "import sys\n",
    "import numpy as np\n",
    "\n",
    "# Summarize software libraries used.\n",
    "print('Libraries used in this project:')\n",
    "print('- Python {}'.format(sys.version))\n",
    "print('- NumPy {}'.format(np.__version__))\n",
    "\n",
    "# Load the datasets.\n",
    "ratings = np.load('/home/student/DSTIP/NumPy/data/customer_ratings.npy')\n",
    "prices = np.loadtxt('/home/student/DSTIP/NumPy/data/unit_tax_total.csv',\n",
    "                    delimiter = ',')\n",
    "revenue_cogs = np.loadtxt('/home/student/DSTIP/NumPy/data/revenue_cogs.csv',\n",
    "                          delimiter = ',')\n",
    "print('\\nLoaded datasets.')\n",
    "\n",
    "# Print floats using fixed-point notation.\n",
    "np.set_printoptions(suppress = True)"
   ]
  },
  {
   "cell_type": "markdown",
   "metadata": {},
   "source": [
    "# Concatenate `prices` with `revenue_cogs`"
   ]
  },
  {
   "cell_type": "code",
   "execution_count": null,
   "metadata": {},
   "outputs": [],
   "source": [
    "revenue_cogs"
   ]
  },
  {
   "cell_type": "code",
   "execution_count": null,
   "metadata": {},
   "outputs": [],
   "source": [
    "print('Shape of revenue_cogs: {}'.format(revenue_cogs.shape))\n",
    "print('Shape of prices: {}'.format(prices.shape))"
   ]
  },
  {
   "cell_type": "code",
   "execution_count": null,
   "metadata": {},
   "outputs": [],
   "source": [
    "finances = np.vstack((prices, revenue_cogs))\n",
    "print('First 5 columns of stacked array:\\n {}'.format(finances[:, :5]))\n",
    "print('\\nShape of finances: {}'.format(finances.shape))"
   ]
  },
  {
   "cell_type": "markdown",
   "metadata": {},
   "source": [
    "# Transpose `finances` so it's in a more readable format"
   ]
  },
  {
   "cell_type": "code",
   "execution_count": null,
   "metadata": {},
   "outputs": [],
   "source": [
    "finances = finances.transpose()\n",
    "print('First 10 rows of finances:\\n {}'.format(finances[:10, :]))\n",
    "print('\\nShape of finances: {}'.format(finances.shape))"
   ]
  },
  {
   "cell_type": "markdown",
   "metadata": {},
   "source": [
    "# Split `finances` into multiple arrays"
   ]
  },
  {
   "cell_type": "code",
   "execution_count": null,
   "metadata": {},
   "outputs": [],
   "source": [
    "split = np.hsplit(finances, (2, 4))"
   ]
  },
  {
   "cell_type": "code",
   "execution_count": null,
   "metadata": {},
   "outputs": [],
   "source": [
    "print('Number of arrays after split: {}.'.format(len(split)))"
   ]
  },
  {
   "cell_type": "code",
   "execution_count": null,
   "metadata": {},
   "outputs": [],
   "source": [
    "print('Unit and tax prices:\\n {}'.format(split[0][:5, :]))\n",
    "print('\\nTotal prices and revenue:\\n {}'.format(split[1][:5, :]))\n",
    "print('\\nCOGS:\\n {}'.format(split[2][:5, :]))"
   ]
  },
  {
   "cell_type": "markdown",
   "metadata": {},
   "source": [
    "# Make the split arrays copies instead of views"
   ]
  },
  {
   "cell_type": "code",
   "execution_count": null,
   "metadata": {},
   "outputs": [],
   "source": [
    "def view_copy_test(split_arr, new_price):\n",
    "    print('First unit price in finances (before): {}.' \\\n",
    "          .format(finances[0, 0]))\n",
    "\n",
    "    # Use split to change first unit price.\n",
    "    split_arr[0, 0] = new_price\n",
    "\n",
    "    print('First unit price in finances (after): {}.' \\\n",
    "          .format(finances[0, 0]))\n",
    "    \n",
    "view_copy_test(split[0], 75.02)"
   ]
  },
  {
   "cell_type": "code",
   "execution_count": null,
   "metadata": {},
   "outputs": [],
   "source": [
    "unit_and_tax = split[0].copy()\n",
    "total_and_rev = split[1].copy()\n",
    "cogs = split[2].copy()\n",
    "print('Split variables defined.')"
   ]
  },
  {
   "cell_type": "code",
   "execution_count": null,
   "metadata": {},
   "outputs": [],
   "source": [
    "# Set price back to what it was.\n",
    "finances[0, 0] = 74.69\n",
    "\n",
    "view_copy_test(unit_and_tax, 75.02)"
   ]
  },
  {
   "cell_type": "markdown",
   "metadata": {},
   "source": [
    "# Append the `ratings` array to `finances`"
   ]
  },
  {
   "cell_type": "code",
   "execution_count": null,
   "metadata": {},
   "outputs": [],
   "source": [
    "print('Shape of ratings: {}'.format(ratings.shape))\n",
    "print('Shape of finances: {}'.format(finances.shape))"
   ]
  },
  {
   "cell_type": "code",
   "execution_count": null,
   "metadata": {},
   "outputs": [],
   "source": [
    "ratings = ratings.reshape((100, 1))\n",
    "finances_and_ratings = np.hstack((finances, ratings))\n",
    "finances_and_ratings[:5, :]"
   ]
  },
  {
   "cell_type": "markdown",
   "metadata": {},
   "source": [
    "# Sort columns and rows in `finances_and_ratings`"
   ]
  },
  {
   "cell_type": "code",
   "execution_count": null,
   "metadata": {},
   "outputs": [],
   "source": [
    "s = slice(0, 5)  # Slice first 5 rows.\n",
    "col_sort = np.sort(finances_and_ratings[s, :])\n",
    "row_sort = np.sort(finances_and_ratings[s, :], axis = 0)\n",
    "print('Unsorted:\\n {}'.format(finances_and_ratings[s, :]))\n",
    "print('\\nSorted by columns:\\n {}'.format(col_sort[s, :]))\n",
    "print('\\nSorted by rows:\\n {}'.format(row_sort[s, :]))"
   ]
  },
  {
   "cell_type": "markdown",
   "metadata": {},
   "source": [
    "# Sort `finances_and_ratings` by customer ratings"
   ]
  },
  {
   "cell_type": "code",
   "execution_count": null,
   "metadata": {},
   "outputs": [],
   "source": [
    "smart_sort = np.argsort(finances_and_ratings[:, 5])\n",
    "smart_sort"
   ]
  },
  {
   "cell_type": "code",
   "execution_count": null,
   "metadata": {},
   "outputs": [],
   "source": [
    "sorted_arr = finances_and_ratings[smart_sort]\n",
    "sorted_arr[:5, :]"
   ]
  },
  {
   "cell_type": "code",
   "execution_count": null,
   "metadata": {},
   "outputs": [],
   "source": [
    "print('Row index of lowest rating (first occurrence): {}.' \\\n",
    "      .format(np.argmin(finances_and_ratings[:, 5])))"
   ]
  },
  {
   "cell_type": "code",
   "execution_count": null,
   "metadata": {
    "scrolled": true
   },
   "outputs": [],
   "source": [
    "print('Row from initial array:\\n {}' \\\n",
    "      .format(finances_and_ratings[72, :]))\n",
    "print('\\nRow from sorted array:\\n {}' \\\n",
    "      .format(sorted_arr[1, :]))"
   ]
  }
 ],
 "metadata": {
  "kernelspec": {
   "display_name": "Python 3",
   "language": "python",
   "name": "python3"
  },
  "language_info": {
   "codemirror_mode": {
    "name": "ipython",
    "version": 3
   },
   "file_extension": ".py",
   "mimetype": "text/x-python",
   "name": "python",
   "nbconvert_exporter": "python",
   "pygments_lexer": "ipython3",
   "version": "3.7.4"
  }
 },
 "nbformat": 4,
 "nbformat_minor": 2
}
