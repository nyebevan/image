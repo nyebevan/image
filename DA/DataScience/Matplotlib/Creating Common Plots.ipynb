{
 "cells": [
  {
   "cell_type": "markdown",
   "metadata": {},
   "source": [
    "# Import software libraries and load the dataset"
   ]
  },
  {
   "cell_type": "code",
   "execution_count": null,
   "metadata": {},
   "outputs": [],
   "source": [
    "import sys\n",
    "import numpy as np\n",
    "import pandas as pd\n",
    "import matplotlib as mpl\n",
    "import matplotlib.pyplot as plt\n",
    "\n",
    "# Summarize software libraries used.\n",
    "print('Libraries used in this project:')\n",
    "print('- Python {}'.format(sys.version))\n",
    "print('- NumPy {}'.format(np.__version__))\n",
    "print('- pandas {}'.format(pd.__version__))\n",
    "print('- Matplotlib {}'.format(mpl.__version__))\n",
    "\n",
    "# Load the dataset.\n",
    "stores_df = pd.read_csv('/home/student/DSTIP/Matplotlib/data/stores_data_full_clean.csv',\n",
    "                        index_col = 0)\n",
    "stores_df['Date'] = pd.to_datetime(stores_df['Date'])\n",
    "print('\\nLoaded dataset.')\n",
    "\n",
    "# Format floats with comma in thousands place\n",
    "pd.options.display.float_format = '{:,.2f}'.format"
   ]
  },
  {
   "cell_type": "markdown",
   "metadata": {},
   "source": [
    "# Generate stack plots to compare total items sold for each day in January and February"
   ]
  },
  {
   "cell_type": "code",
   "execution_count": null,
   "metadata": {},
   "outputs": [],
   "source": [
    "jan = stores_df[stores_df['Date'].dt.month == 1]\n",
    "feb = stores_df[stores_df['Date'].dt.month == 2]\n",
    "\n",
    "jan_quant = stores_df.groupby(jan['Date'].dt.day)['Quantity'].sum()\n",
    "feb_quant = stores_df.groupby(feb['Date'].dt.day)['Quantity'].sum()\n",
    "feb_quant = feb_quant.append(pd.Series([np.nan, np.nan, np.nan]),\n",
    "                             ignore_index = True)\n",
    "\n",
    "jan_quant.head()"
   ]
  },
  {
   "cell_type": "code",
   "execution_count": null,
   "metadata": {},
   "outputs": [],
   "source": [
    "\n"
   ]
  },
  {
   "cell_type": "markdown",
   "metadata": {},
   "source": [
    "# Generate scatter plots to see how different variables correlate with gross income"
   ]
  },
  {
   "cell_type": "code",
   "execution_count": null,
   "metadata": {},
   "outputs": [],
   "source": [
    "\n",
    "\n",
    "\n",
    "\n"
   ]
  },
  {
   "cell_type": "markdown",
   "metadata": {},
   "source": [
    "# Generate bar charts comparing branch revenue per product line"
   ]
  },
  {
   "cell_type": "code",
   "execution_count": null,
   "metadata": {},
   "outputs": [],
   "source": [
    "\n"
   ]
  },
  {
   "cell_type": "code",
   "execution_count": null,
   "metadata": {},
   "outputs": [],
   "source": [
    "# Define lists of product lines and branches to iterate over.\n",
    "prods = prod_rev.index.get_level_values('ProductLine').unique()\n",
    "branch = prod_rev.index.get_level_values('Branch').unique()\n",
    "i = 0\n",
    "\n",
    "\n",
    "\n",
    "\n",
    "\n",
    "\n",
    "\n",
    "\n",
    "\n"
   ]
  },
  {
   "cell_type": "markdown",
   "metadata": {},
   "source": [
    "# Generate histograms and box plots that show the distributions of revenue and income"
   ]
  },
  {
   "cell_type": "code",
   "execution_count": null,
   "metadata": {},
   "outputs": [],
   "source": [
    "\n",
    "\n"
   ]
  },
  {
   "cell_type": "code",
   "execution_count": null,
   "metadata": {},
   "outputs": [],
   "source": [
    "\n",
    "\n"
   ]
  },
  {
   "cell_type": "markdown",
   "metadata": {},
   "source": [
    "# Generate violin plots that compare the distributions of unit price and tax price"
   ]
  },
  {
   "cell_type": "code",
   "execution_count": null,
   "metadata": {},
   "outputs": [],
   "source": [
    "# Define lists of prices for each month.\n",
    "jan_unit_tax = [jan['UnitPrice'].values, jan['TaxPrice'].values]\n",
    "feb_unit_tax = [feb['UnitPrice'].values, feb['TaxPrice'].values]\n",
    "\n",
    "\n",
    "\n"
   ]
  },
  {
   "cell_type": "markdown",
   "metadata": {},
   "source": [
    "# Generate a `GridSpec` of multiple plots showing the distributions of revenue and income"
   ]
  },
  {
   "cell_type": "code",
   "execution_count": null,
   "metadata": {},
   "outputs": [],
   "source": [
    "# Set up grid first.\n",
    "fig = plt.figure(figsize = (12, 10))\n",
    "grid = fig.add_gridspec(4, 4)\n",
    "\n",
    "ax_top = fig.add_subplot(grid[0, :3])\n",
    "ax_right = fig.add_subplot(grid[1:4, 3])\n",
    "ax_mid = fig.add_subplot(grid[1:4, :3])"
   ]
  },
  {
   "cell_type": "code",
   "execution_count": null,
   "metadata": {},
   "outputs": [],
   "source": [
    "\n",
    "\n",
    "\n",
    "\n"
   ]
  },
  {
   "cell_type": "markdown",
   "metadata": {},
   "source": [
    "# Generate a 3-D scatter plot comparing revenue, gross income, and customer rating"
   ]
  },
  {
   "cell_type": "code",
   "execution_count": null,
   "metadata": {},
   "outputs": [],
   "source": [
    "\n",
    "\n",
    "\n",
    "\n",
    "\n",
    "\n"
   ]
  },
  {
   "cell_type": "code",
   "execution_count": null,
   "metadata": {},
   "outputs": [],
   "source": [
    "\n"
   ]
  }
 ],
 "metadata": {
  "kernelspec": {
   "display_name": "Python 3",
   "language": "python",
   "name": "python3"
  },
  "language_info": {
   "codemirror_mode": {
    "name": "ipython",
    "version": 3
   },
   "file_extension": ".py",
   "mimetype": "text/x-python",
   "name": "python",
   "nbconvert_exporter": "python",
   "pygments_lexer": "ipython3",
   "version": "3.7.4"
  }
 },
 "nbformat": 4,
 "nbformat_minor": 2
}
