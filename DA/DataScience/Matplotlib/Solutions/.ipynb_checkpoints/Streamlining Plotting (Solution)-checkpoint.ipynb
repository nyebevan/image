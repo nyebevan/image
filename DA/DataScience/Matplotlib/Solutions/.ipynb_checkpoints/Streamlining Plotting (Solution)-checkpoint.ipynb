{
 "cells": [
  {
   "cell_type": "markdown",
   "metadata": {},
   "source": [
    "# Import software libraries and load the dataset"
   ]
  },
  {
   "cell_type": "code",
   "execution_count": 1,
   "metadata": {},
   "outputs": [
    {
     "ename": "ModuleNotFoundError",
     "evalue": "No module named 'seaborn'",
     "output_type": "error",
     "traceback": [
      "\u001b[1;31m---------------------------------------------------------------------------\u001b[0m",
      "\u001b[1;31mModuleNotFoundError\u001b[0m                       Traceback (most recent call last)",
      "\u001b[1;32m~\\AppData\\Local\\Temp/ipykernel_12968/962516930.py\u001b[0m in \u001b[0;36m<module>\u001b[1;34m\u001b[0m\n\u001b[0;32m      4\u001b[0m \u001b[1;32mimport\u001b[0m \u001b[0mmatplotlib\u001b[0m \u001b[1;32mas\u001b[0m \u001b[0mmpl\u001b[0m\u001b[1;33m\u001b[0m\u001b[1;33m\u001b[0m\u001b[0m\n\u001b[0;32m      5\u001b[0m \u001b[1;32mimport\u001b[0m \u001b[0mmatplotlib\u001b[0m\u001b[1;33m.\u001b[0m\u001b[0mpyplot\u001b[0m \u001b[1;32mas\u001b[0m \u001b[0mplt\u001b[0m\u001b[1;33m\u001b[0m\u001b[1;33m\u001b[0m\u001b[0m\n\u001b[1;32m----> 6\u001b[1;33m \u001b[1;32mimport\u001b[0m \u001b[0mseaborn\u001b[0m \u001b[1;32mas\u001b[0m \u001b[0msb\u001b[0m\u001b[1;33m\u001b[0m\u001b[1;33m\u001b[0m\u001b[0m\n\u001b[0m\u001b[0;32m      7\u001b[0m \u001b[1;33m\u001b[0m\u001b[0m\n\u001b[0;32m      8\u001b[0m \u001b[1;31m# Summarize software libraries used.\u001b[0m\u001b[1;33m\u001b[0m\u001b[1;33m\u001b[0m\u001b[0m\n",
      "\u001b[1;31mModuleNotFoundError\u001b[0m: No module named 'seaborn'"
     ]
    }
   ],
   "source": [
    "import sys\n",
    "import numpy as np\n",
    "import pandas as pd\n",
    "import matplotlib as mpl\n",
    "import matplotlib.pyplot as plt\n",
    "import seaborn as sb\n",
    "\n",
    "# Summarize software libraries used.\n",
    "print('Libraries used in this project:')\n",
    "print('- Python {}'.format(sys.version))\n",
    "print('- NumPy {}'.format(np.__version__))\n",
    "print('- pandas {}'.format(pd.__version__))\n",
    "print('- Matplotlib {}'.format(mpl.__version__))\n",
    "print('- Seaborn {}'.format(sb.__version__))\n",
    "\n",
    "# Load the dataset.\n",
    "stores_df = pd.read_csv('../data/stores_data_full_clean.csv',\n",
    "                        index_col = 0)\n",
    "stores_df['Date'] = pd.to_datetime(stores_df['Date'])\n",
    "print('\\nLoaded dataset.')"
   ]
  },
  {
   "cell_type": "markdown",
   "metadata": {},
   "source": [
    "# Generate scatter plots using different Seaborn styles"
   ]
  },
  {
   "cell_type": "code",
   "execution_count": null,
   "metadata": {},
   "outputs": [],
   "source": [
    "kwargs = {'x': 'UnitPrice', 'y': 'GrossIncome',\n",
    "          'data': stores_df, 'palette': 'Blues'}\n",
    "\n",
    "fig = plt.figure(figsize = (16, 4))\n",
    "\n",
    "with sb.axes_style('white'):\n",
    "    ax = fig.add_subplot(1, 3, 1)\n",
    "    sb.scatterplot(hue = 'COGS', ax = ax, **kwargs)\n",
    "    \n",
    "with sb.axes_style('dark'):\n",
    "    ax = fig.add_subplot(1, 3, 2)\n",
    "    sb.scatterplot(hue = 'Quantity', ax = ax, **kwargs)\n",
    "    \n",
    "with sb.axes_style('ticks'):\n",
    "    ax = fig.add_subplot(1, 3, 3)\n",
    "    sb.scatterplot(hue = 'CustomerRating', ax = ax, **kwargs)"
   ]
  },
  {
   "cell_type": "markdown",
   "metadata": {},
   "source": [
    "# Generate a compound distribution plot with a customized style"
   ]
  },
  {
   "cell_type": "code",
   "execution_count": null,
   "metadata": {},
   "outputs": [],
   "source": [
    "sb.set_style('white', {'xtick.bottom': True})\n",
    "\n",
    "fig, ax = plt.subplots(figsize = (12, 10))\n",
    "sb.distplot(a = stores_df['Revenue'], bins = 20, rug = True)\n",
    "ax.set_title('Revenue Distribution', size = 16)\n",
    "ax.set_xlabel('Revenue (USD)', size = 14)\n",
    "\n",
    "sb.despine()"
   ]
  },
  {
   "cell_type": "markdown",
   "metadata": {},
   "source": [
    "# Generate a bar chart using a Seaborn color palette"
   ]
  },
  {
   "cell_type": "code",
   "execution_count": null,
   "metadata": {},
   "outputs": [],
   "source": [
    "sb.set()  # Reset style to default.\n",
    "\n",
    "with sb.color_palette('colorblind'):\n",
    "    fig, ax = plt.subplots(figsize = (12, 10))\n",
    "    sb.barplot(x = 'ProductLine', y = 'Quantity', hue = 'Branch',\n",
    "               data = stores_df, estimator = np.sum)\n",
    "    ax.set_title('Quantity Sold for Each Product Line', size = 16)"
   ]
  },
  {
   "cell_type": "markdown",
   "metadata": {},
   "source": [
    "# Generate a swarm plot using a style and color palette"
   ]
  },
  {
   "cell_type": "code",
   "execution_count": null,
   "metadata": {},
   "outputs": [],
   "source": [
    "with sb.axes_style('whitegrid'), sb.color_palette('deep'):\n",
    "    fig, ax = plt.subplots(figsize = (12, 10))\n",
    "    sb.swarmplot(x = 'ProductLine', y = 'GrossIncome', data = stores_df)\n",
    "    ax.set_title('Distribution of Product Line Income', size = 16)"
   ]
  },
  {
   "cell_type": "markdown",
   "metadata": {},
   "source": [
    "# Generate a heat map showing correlations between numeric variables"
   ]
  },
  {
   "cell_type": "code",
   "execution_count": null,
   "metadata": {},
   "outputs": [],
   "source": [
    "fig, ax = plt.subplots(figsize = (12, 10))\n",
    "sb.heatmap(stores_df.corr(), annot = True)"
   ]
  },
  {
   "cell_type": "markdown",
   "metadata": {},
   "source": [
    "# Generate a linear regression plot for revenue and gross income"
   ]
  },
  {
   "cell_type": "code",
   "execution_count": null,
   "metadata": {},
   "outputs": [],
   "source": [
    "fig, ax = plt.subplots(figsize = (12, 10))\n",
    "sb.regplot(x = 'Revenue', y = 'GrossIncome', data = stores_df);"
   ]
  },
  {
   "cell_type": "markdown",
   "metadata": {},
   "source": [
    "# Generate a `FacetGrid` of quantity sold per product line, categorized by branch and customer type"
   ]
  },
  {
   "cell_type": "code",
   "execution_count": null,
   "metadata": {
    "scrolled": false
   },
   "outputs": [],
   "source": [
    "plot = sb.catplot(x = 'ProductLine', y = 'Quantity',\n",
    "                  row = 'Branch', col = 'CustomerType', data = stores_df,\n",
    "                  kind = 'bar', estimator = np.sum, height = 8)\n",
    "plot.set_xticklabels(stores_df['ProductLine'].unique(), rotation = -30);"
   ]
  },
  {
   "cell_type": "markdown",
   "metadata": {},
   "source": [
    "# Generate a `JointGrid` showing the distributions of revenue and income"
   ]
  },
  {
   "cell_type": "code",
   "execution_count": null,
   "metadata": {},
   "outputs": [],
   "source": [
    "sb.jointplot(x = 'Revenue', y = 'GrossIncome', data = stores_df,\n",
    "             kind = 'scatter', height = 10);"
   ]
  }
 ],
 "metadata": {
  "kernelspec": {
   "display_name": "Python 3 (ipykernel)",
   "language": "python",
   "name": "python3"
  },
  "language_info": {
   "codemirror_mode": {
    "name": "ipython",
    "version": 3
   },
   "file_extension": ".py",
   "mimetype": "text/x-python",
   "name": "python",
   "nbconvert_exporter": "python",
   "pygments_lexer": "ipython3",
   "version": "3.9.7"
  }
 },
 "nbformat": 4,
 "nbformat_minor": 2
}
