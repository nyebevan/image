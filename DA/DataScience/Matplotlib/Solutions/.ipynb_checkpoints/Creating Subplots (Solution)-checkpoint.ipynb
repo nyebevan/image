{
 "cells": [
  {
   "cell_type": "markdown",
   "metadata": {},
   "source": [
    "# Import software libraries and load the dataset"
   ]
  },
  {
   "cell_type": "code",
   "execution_count": 1,
   "metadata": {},
   "outputs": [
    {
     "name": "stdout",
     "output_type": "stream",
     "text": [
      "Libraries used in this project:\n",
      "- Python 3.9.7 (default, Sep 16 2021, 16:59:28) [MSC v.1916 64 bit (AMD64)]\n",
      "- NumPy 1.22.3\n",
      "- pandas 1.4.3\n",
      "- Matplotlib 3.5.1\n",
      "\n",
      "Loaded dataset.\n"
     ]
    }
   ],
   "source": [
    "import sys\n",
    "import numpy as np\n",
    "import pandas as pd\n",
    "import matplotlib as mpl\n",
    "import matplotlib.pyplot as plt\n",
    "\n",
    "# Summarize software libraries used.\n",
    "print('Libraries used in this project:')\n",
    "print('- Python {}'.format(sys.version))\n",
    "print('- NumPy {}'.format(np.__version__))\n",
    "print('- pandas {}'.format(pd.__version__))\n",
    "print('- Matplotlib {}'.format(mpl.__version__))\n",
    "\n",
    "# Load the dataset.\n",
    "month_acc = pd.read_csv('../data/daily_accounting_by_month.csv',\n",
    "                        index_col = 0, header = [0, 1])\n",
    "print('\\nLoaded dataset.')\n",
    "\n",
    "# Format floats with comma in thousands place\n",
    "pd.options.display.float_format = '{:,.2f}'.format"
   ]
  },
  {
   "cell_type": "markdown",
   "metadata": {},
   "source": [
    "# Generate a modular plot showing revenue for both January and February"
   ]
  },
  {
   "cell_type": "code",
   "execution_count": 2,
   "metadata": {},
   "outputs": [
    {
     "data": {
      "text/html": [
       "<div>\n",
       "<style scoped>\n",
       "    .dataframe tbody tr th:only-of-type {\n",
       "        vertical-align: middle;\n",
       "    }\n",
       "\n",
       "    .dataframe tbody tr th {\n",
       "        vertical-align: top;\n",
       "    }\n",
       "\n",
       "    .dataframe thead tr th {\n",
       "        text-align: left;\n",
       "    }\n",
       "\n",
       "    .dataframe thead tr:last-of-type th {\n",
       "        text-align: right;\n",
       "    }\n",
       "</style>\n",
       "<table border=\"1\" class=\"dataframe\">\n",
       "  <thead>\n",
       "    <tr>\n",
       "      <th></th>\n",
       "      <th colspan=\"3\" halign=\"left\">Revenue</th>\n",
       "      <th colspan=\"3\" halign=\"left\">COGS</th>\n",
       "      <th colspan=\"3\" halign=\"left\">GrossIncome</th>\n",
       "    </tr>\n",
       "    <tr>\n",
       "      <th></th>\n",
       "      <th>January</th>\n",
       "      <th>February</th>\n",
       "      <th>March</th>\n",
       "      <th>January</th>\n",
       "      <th>February</th>\n",
       "      <th>March</th>\n",
       "      <th>January</th>\n",
       "      <th>February</th>\n",
       "      <th>March</th>\n",
       "    </tr>\n",
       "    <tr>\n",
       "      <th>Date</th>\n",
       "      <th></th>\n",
       "      <th></th>\n",
       "      <th></th>\n",
       "      <th></th>\n",
       "      <th></th>\n",
       "      <th></th>\n",
       "      <th></th>\n",
       "      <th></th>\n",
       "      <th></th>\n",
       "    </tr>\n",
       "  </thead>\n",
       "  <tbody>\n",
       "    <tr>\n",
       "      <th>1</th>\n",
       "      <td>4,519.22</td>\n",
       "      <td>2,328.13</td>\n",
       "      <td>2,508.92</td>\n",
       "      <td>4,365.20</td>\n",
       "      <td>2,243.63</td>\n",
       "      <td>2,402.36</td>\n",
       "      <td>154.02</td>\n",
       "      <td>84.50</td>\n",
       "      <td>106.56</td>\n",
       "    </tr>\n",
       "    <tr>\n",
       "      <th>2</th>\n",
       "      <td>1,852.86</td>\n",
       "      <td>3,905.34</td>\n",
       "      <td>6,247.91</td>\n",
       "      <td>1,790.87</td>\n",
       "      <td>3,758.41</td>\n",
       "      <td>6,007.21</td>\n",
       "      <td>61.99</td>\n",
       "      <td>146.93</td>\n",
       "      <td>240.70</td>\n",
       "    </tr>\n",
       "    <tr>\n",
       "      <th>3</th>\n",
       "      <td>1,979.17</td>\n",
       "      <td>5,207.55</td>\n",
       "      <td>4,622.07</td>\n",
       "      <td>1,912.05</td>\n",
       "      <td>4,968.73</td>\n",
       "      <td>4,456.87</td>\n",
       "      <td>67.12</td>\n",
       "      <td>238.82</td>\n",
       "      <td>165.20</td>\n",
       "    </tr>\n",
       "    <tr>\n",
       "      <th>4</th>\n",
       "      <td>1,546.37</td>\n",
       "      <td>2,323.33</td>\n",
       "      <td>3,708.99</td>\n",
       "      <td>1,475.36</td>\n",
       "      <td>2,228.72</td>\n",
       "      <td>3,564.98</td>\n",
       "      <td>71.01</td>\n",
       "      <td>94.61</td>\n",
       "      <td>144.01</td>\n",
       "    </tr>\n",
       "    <tr>\n",
       "      <th>5</th>\n",
       "      <td>3,368.27</td>\n",
       "      <td>2,886.79</td>\n",
       "      <td>5,934.17</td>\n",
       "      <td>3,256.40</td>\n",
       "      <td>2,777.05</td>\n",
       "      <td>5,714.64</td>\n",
       "      <td>111.87</td>\n",
       "      <td>109.74</td>\n",
       "      <td>219.53</td>\n",
       "    </tr>\n",
       "    <tr>\n",
       "      <th>6</th>\n",
       "      <td>3,442.10</td>\n",
       "      <td>2,767.07</td>\n",
       "      <td>2,945.33</td>\n",
       "      <td>3,295.05</td>\n",
       "      <td>2,671.94</td>\n",
       "      <td>2,826.71</td>\n",
       "      <td>147.05</td>\n",
       "      <td>95.13</td>\n",
       "      <td>118.62</td>\n",
       "    </tr>\n",
       "    <tr>\n",
       "      <th>7</th>\n",
       "      <td>2,699.28</td>\n",
       "      <td>6,884.01</td>\n",
       "      <td>1,369.77</td>\n",
       "      <td>2,596.96</td>\n",
       "      <td>6,599.44</td>\n",
       "      <td>1,316.44</td>\n",
       "      <td>102.32</td>\n",
       "      <td>284.57</td>\n",
       "      <td>53.33</td>\n",
       "    </tr>\n",
       "    <tr>\n",
       "      <th>8</th>\n",
       "      <td>5,041.65</td>\n",
       "      <td>4,842.53</td>\n",
       "      <td>2,976.56</td>\n",
       "      <td>4,848.61</td>\n",
       "      <td>4,655.42</td>\n",
       "      <td>2,858.24</td>\n",
       "      <td>193.04</td>\n",
       "      <td>187.11</td>\n",
       "      <td>118.32</td>\n",
       "    </tr>\n",
       "    <tr>\n",
       "      <th>9</th>\n",
       "      <td>2,436.11</td>\n",
       "      <td>3,116.09</td>\n",
       "      <td>7,118.14</td>\n",
       "      <td>2,350.42</td>\n",
       "      <td>3,002.26</td>\n",
       "      <td>6,883.06</td>\n",
       "      <td>85.69</td>\n",
       "      <td>113.83</td>\n",
       "      <td>235.08</td>\n",
       "    </tr>\n",
       "    <tr>\n",
       "      <th>10</th>\n",
       "      <td>3,391.38</td>\n",
       "      <td>2,991.45</td>\n",
       "      <td>3,012.60</td>\n",
       "      <td>3,268.03</td>\n",
       "      <td>2,892.65</td>\n",
       "      <td>2,899.90</td>\n",
       "      <td>123.35</td>\n",
       "      <td>98.80</td>\n",
       "      <td>112.70</td>\n",
       "    </tr>\n",
       "  </tbody>\n",
       "</table>\n",
       "</div>"
      ],
      "text/plain": [
       "      Revenue                       COGS                   GrossIncome  \\\n",
       "      January February    March  January February    March     January   \n",
       "Date                                                                     \n",
       "1    4,519.22 2,328.13 2,508.92 4,365.20 2,243.63 2,402.36      154.02   \n",
       "2    1,852.86 3,905.34 6,247.91 1,790.87 3,758.41 6,007.21       61.99   \n",
       "3    1,979.17 5,207.55 4,622.07 1,912.05 4,968.73 4,456.87       67.12   \n",
       "4    1,546.37 2,323.33 3,708.99 1,475.36 2,228.72 3,564.98       71.01   \n",
       "5    3,368.27 2,886.79 5,934.17 3,256.40 2,777.05 5,714.64      111.87   \n",
       "6    3,442.10 2,767.07 2,945.33 3,295.05 2,671.94 2,826.71      147.05   \n",
       "7    2,699.28 6,884.01 1,369.77 2,596.96 6,599.44 1,316.44      102.32   \n",
       "8    5,041.65 4,842.53 2,976.56 4,848.61 4,655.42 2,858.24      193.04   \n",
       "9    2,436.11 3,116.09 7,118.14 2,350.42 3,002.26 6,883.06       85.69   \n",
       "10   3,391.38 2,991.45 3,012.60 3,268.03 2,892.65 2,899.90      123.35   \n",
       "\n",
       "                      \n",
       "     February  March  \n",
       "Date                  \n",
       "1       84.50 106.56  \n",
       "2      146.93 240.70  \n",
       "3      238.82 165.20  \n",
       "4       94.61 144.01  \n",
       "5      109.74 219.53  \n",
       "6       95.13 118.62  \n",
       "7      284.57  53.33  \n",
       "8      187.11 118.32  \n",
       "9      113.83 235.08  \n",
       "10      98.80 112.70  "
      ]
     },
     "execution_count": 2,
     "metadata": {},
     "output_type": "execute_result"
    }
   ],
   "source": [
    "month_acc.head(10)"
   ]
  },
  {
   "cell_type": "code",
   "execution_count": 3,
   "metadata": {},
   "outputs": [
    {
     "data": {
      "text/plain": [
       "[<matplotlib.lines.Line2D at 0x2998835df40>]"
      ]
     },
     "execution_count": 3,
     "metadata": {},
     "output_type": "execute_result"
    },
    {
     "data": {
      "image/png": "[encoded data removed]",
      "text/plain": [
       "<Figure size 432x288 with 1 Axes>"
      ]
     },
     "metadata": {
      "needs_background": "light"
     },
     "output_type": "display_data"
    }
   ],
   "source": [
    "fig = plt.figure()\n",
    "ax = fig.add_axes([0, 0, 1, 1])\n",
    "ax.plot(month_acc.index, month_acc.loc[:, ('Revenue', 'January')])\n",
    "ax.plot(month_acc.index, month_acc.loc[:, ('Revenue', 'February')])"
   ]
  },
  {
   "cell_type": "markdown",
   "metadata": {},
   "source": [
    "# Generate subplots comparing revenue across the months"
   ]
  },
  {
   "cell_type": "code",
   "execution_count": null,
   "metadata": {},
   "outputs": [],
   "source": [
    "fig, ax = plt.subplots(1, 3, figsize = (15, 5))\n",
    "ax[0].plot(month_acc.index, month_acc.loc[:, ('Revenue', 'January')])\n",
    "ax[1].plot(month_acc.index, month_acc.loc[:, ('Revenue', 'February')])\n",
    "ax[2].plot(month_acc.index, month_acc.loc[:, ('Revenue', 'March')])"
   ]
  },
  {
   "cell_type": "markdown",
   "metadata": {},
   "source": [
    "# Generate subplots comparing performance for January vs. February"
   ]
  },
  {
   "cell_type": "code",
   "execution_count": null,
   "metadata": {},
   "outputs": [],
   "source": [
    "fig, ax = plt.subplots(1, 3, figsize = (15, 5))\n",
    "\n",
    "measures = ['Revenue', 'COGS', 'GrossIncome']\n",
    "\n",
    "col = 0\n",
    "\n",
    "for measure in measures:\n",
    "    ax[col].plot(month_acc.index, month_acc.loc[:, (measure, 'January')])\n",
    "    ax[col].plot(month_acc.index, month_acc.loc[:, (measure, 'February')])\n",
    "    col += 1"
   ]
  },
  {
   "cell_type": "markdown",
   "metadata": {},
   "source": [
    "# Generate subplots with shared axes"
   ]
  },
  {
   "cell_type": "code",
   "execution_count": null,
   "metadata": {},
   "outputs": [],
   "source": [
    "fig, ax = plt.subplots(3, 2, sharex = 'col', sharey = 'all',\n",
    "                       figsize = (10, 12))\n",
    "\n",
    "months = ['January', 'February', 'March']\n",
    "row = 0\n",
    "\n",
    "for month in months:\n",
    "    ax[row, 0].plot(month_acc.index,\n",
    "                    month_acc.loc[:, ('Revenue', month)])\n",
    "    ax[row, 1].plot(month_acc.index,\n",
    "                    month_acc.loc[:, ('GrossIncome', month)])\n",
    "    row += 1"
   ]
  },
  {
   "cell_type": "markdown",
   "metadata": {},
   "source": [
    "# Generate more complex subplots using a `GridSpec` object"
   ]
  },
  {
   "cell_type": "code",
   "execution_count": null,
   "metadata": {},
   "outputs": [],
   "source": [
    "# Set up grid before plotting.\n",
    "fig = plt.figure(figsize = (15, 6))\n",
    "grid = fig.add_gridspec(2, 3, width_ratios = [.25, .45, .25])\n",
    "\n",
    "ax_l1 = fig.add_subplot(grid[0, 0])\n",
    "ax_l2 = fig.add_subplot(grid[1, 0])\n",
    "ax_mid = fig.add_subplot(grid[:, 1])\n",
    "ax_r1 = fig.add_subplot(grid[0, 2])\n",
    "ax_r2 = fig.add_subplot(grid[1, 2])"
   ]
  },
  {
   "cell_type": "code",
   "execution_count": null,
   "metadata": {},
   "outputs": [],
   "source": [
    "ax_l1.plot(month_acc.index, month_acc.loc[:, ('Revenue', 'January')])\n",
    "ax_l2.plot(month_acc.index, month_acc.loc[:, ('Revenue', 'February')])\n",
    "ax_mid.plot(month_acc.index, month_acc.loc[:, ('GrossIncome', 'January')])\n",
    "ax_mid.plot(month_acc.index, month_acc.loc[:, ('GrossIncome', 'February')])\n",
    "ax_r1.plot(month_acc.index, month_acc.loc[:, ('COGS', 'January')])\n",
    "ax_r2.plot(month_acc.index, month_acc.loc[:, ('COGS', 'February')])\n",
    "fig"
   ]
  }
 ],
 "metadata": {
  "kernelspec": {
   "display_name": "Python 3 (ipykernel)",
   "language": "python",
   "name": "python3"
  },
  "language_info": {
   "codemirror_mode": {
    "name": "ipython",
    "version": 3
   },
   "file_extension": ".py",
   "mimetype": "text/x-python",
   "name": "python",
   "nbconvert_exporter": "python",
   "pygments_lexer": "ipython3",
   "version": "3.9.7"
  }
 },
 "nbformat": 4,
 "nbformat_minor": 2
}
