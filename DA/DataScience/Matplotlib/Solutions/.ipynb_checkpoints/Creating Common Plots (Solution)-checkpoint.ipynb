{
 "cells": [
  {
   "cell_type": "markdown",
   "metadata": {},
   "source": [
    "# Import software libraries and load the dataset"
   ]
  },
  {
   "cell_type": "code",
   "execution_count": 2,
   "metadata": {},
   "outputs": [
    {
     "name": "stdout",
     "output_type": "stream",
     "text": [
      "Libraries used in this project:\n",
      "- Python 3.9.7 (default, Sep 16 2021, 16:59:28) [MSC v.1916 64 bit (AMD64)]\n",
      "- NumPy 1.22.3\n",
      "- pandas 1.4.3\n",
      "- Matplotlib 3.5.1\n",
      "\n",
      "Loaded dataset.\n"
     ]
    }
   ],
   "source": [
    "import sys\n",
    "import numpy as np\n",
    "import pandas as pd\n",
    "import matplotlib as mpl\n",
    "import matplotlib.pyplot as plt\n",
    "\n",
    "# Summarize software libraries used.\n",
    "print('Libraries used in this project:')\n",
    "print('- Python {}'.format(sys.version))\n",
    "print('- NumPy {}'.format(np.__version__))\n",
    "print('- pandas {}'.format(pd.__version__))\n",
    "print('- Matplotlib {}'.format(mpl.__version__))\n",
    "\n",
    "# Load the dataset.\n",
    "stores_df = pd.read_csv('../data/stores_data_full_clean.csv',\n",
    "                        index_col = 0)\n",
    "stores_df['Date'] = pd.to_datetime(stores_df['Date'])\n",
    "print('\\nLoaded dataset.')\n",
    "\n",
    "# Format floats with comma in thousands place\n",
    "pd.options.display.float_format = '{:,.2f}'.format"
   ]
  },
  {
   "cell_type": "markdown",
   "metadata": {},
   "source": [
    "# Generate stack plots to compare total items sold for each day in January and February"
   ]
  },
  {
   "cell_type": "code",
   "execution_count": 3,
   "metadata": {},
   "outputs": [
    {
     "name": "stderr",
     "output_type": "stream",
     "text": [
      "C:\\Users\\NBevan\\AppData\\Local\\Temp/ipykernel_27148/144738195.py:6: FutureWarning: The series.append method is deprecated and will be removed from pandas in a future version. Use pandas.concat instead.\n",
      "  feb_quant = feb_quant.append(pd.Series([np.nan, np.nan, np.nan]),\n"
     ]
    },
    {
     "data": {
      "text/plain": [
       "Date\n",
       "1.00    81\n",
       "2.00    48\n",
       "3.00    37\n",
       "4.00    32\n",
       "5.00    55\n",
       "Name: Quantity, dtype: int64"
      ]
     },
     "execution_count": 3,
     "metadata": {},
     "output_type": "execute_result"
    }
   ],
   "source": [
    "jan = stores_df[stores_df['Date'].dt.month == 1]\n",
    "feb = stores_df[stores_df['Date'].dt.month == 2]\n",
    "\n",
    "jan_quant = stores_df.groupby(jan['Date'].dt.day)['Quantity'].sum()\n",
    "feb_quant = stores_df.groupby(feb['Date'].dt.day)['Quantity'].sum()\n",
    "# feb_quant = feb_quant.append(pd.Series([np.nan, np.nan, np.nan]),\n",
    "#                              ignore_index = True)\n",
    "feb_quant = pd.concat(feb_quant,)\n",
    "\n",
    "jan_quant.head()"
   ]
  },
  {
   "cell_type": "code",
   "execution_count": null,
   "metadata": {},
   "outputs": [],
   "source": [
    "fig, ax = plt.subplots(figsize = (8, 6))\n",
    "ax.stackplot(jan_quant.index, jan_quant, feb_quant)"
   ]
  },
  {
   "cell_type": "markdown",
   "metadata": {},
   "source": [
    "# Generate scatter plots to see how different variables correlate with gross income"
   ]
  },
  {
   "cell_type": "code",
   "execution_count": null,
   "metadata": {},
   "outputs": [],
   "source": [
    "y = stores_df['GrossIncome']\n",
    "fig, ax = plt.subplots(1, 3, figsize = (15, 4))\n",
    "ax[0].scatter(stores_df['CustomerRating'], y)\n",
    "ax[1].scatter(stores_df['UnitPrice'], y, c = 'green')\n",
    "ax[2].scatter(stores_df['Revenue'], y, c = 'orange')"
   ]
  },
  {
   "cell_type": "markdown",
   "metadata": {},
   "source": [
    "# Generate bar charts comparing branch revenue per product line"
   ]
  },
  {
   "cell_type": "code",
   "execution_count": null,
   "metadata": {},
   "outputs": [],
   "source": [
    "prod_rev = stores_df.groupby(['ProductLine', 'Branch'])['Revenue'].sum()\n",
    "prod_rev"
   ]
  },
  {
   "cell_type": "code",
   "execution_count": null,
   "metadata": {},
   "outputs": [],
   "source": [
    "# Define lists of product lines and branches to iterate over.\n",
    "prods = prod_rev.index.get_level_values('ProductLine').unique()\n",
    "branch = prod_rev.index.get_level_values('Branch').unique()\n",
    "i = 0\n",
    "\n",
    "fig, ax = plt.subplots(2, 3, figsize = (14, 8))\n",
    "\n",
    "for col in range(0, 3):\n",
    "    ax[0, col].bar(branch, prod_rev.loc[[prods[i]]])\n",
    "    i += 1\n",
    "    \n",
    "for col in range(0, 3):\n",
    "    ax[1, col].bar(branch, prod_rev.loc[[prods[i]]])\n",
    "    i += 1"
   ]
  },
  {
   "cell_type": "markdown",
   "metadata": {},
   "source": [
    "# Generate histograms and box plots that show the distributions of revenue and income"
   ]
  },
  {
   "cell_type": "code",
   "execution_count": null,
   "metadata": {},
   "outputs": [],
   "source": [
    "fig, ax = plt.subplots(1, 2, figsize = (15, 6))\n",
    "ax[0].hist(stores_df['Revenue'], bins = 20)\n",
    "ax[1].hist(stores_df['GrossIncome'], bins = 20);"
   ]
  },
  {
   "cell_type": "code",
   "execution_count": null,
   "metadata": {},
   "outputs": [],
   "source": [
    "fig, ax = plt.subplots(1, 2, figsize = (15, 6))\n",
    "ax[0].boxplot(stores_df['Revenue'])\n",
    "ax[1].boxplot(stores_df['GrossIncome']);"
   ]
  },
  {
   "cell_type": "markdown",
   "metadata": {},
   "source": [
    "# Generate violin plots that compare the distributions of unit price and tax price"
   ]
  },
  {
   "cell_type": "code",
   "execution_count": null,
   "metadata": {},
   "outputs": [],
   "source": [
    "# Define lists of prices for each month.\n",
    "jan_unit_tax = [jan['UnitPrice'].values, jan['TaxPrice'].values]\n",
    "feb_unit_tax = [feb['UnitPrice'].values, feb['TaxPrice'].values]\n",
    "\n",
    "fig, ax = plt.subplots(1, 2, figsize = (15, 6))\n",
    "ax[0].violinplot(jan_unit_tax, showmeans = True)\n",
    "ax[1].violinplot(feb_unit_tax, showmeans = True);"
   ]
  },
  {
   "cell_type": "markdown",
   "metadata": {},
   "source": [
    "# Generate a `GridSpec` of multiple plots showing the distributions of revenue and income"
   ]
  },
  {
   "cell_type": "code",
   "execution_count": null,
   "metadata": {},
   "outputs": [],
   "source": [
    "# Set up grid first.\n",
    "fig = plt.figure(figsize = (12, 10))\n",
    "grid = fig.add_gridspec(4, 4)\n",
    "\n",
    "ax_top = fig.add_subplot(grid[0, :3])\n",
    "ax_right = fig.add_subplot(grid[1:4, 3])\n",
    "ax_mid = fig.add_subplot(grid[1:4, :3])"
   ]
  },
  {
   "cell_type": "code",
   "execution_count": null,
   "metadata": {},
   "outputs": [],
   "source": [
    "ax_top.hist(stores_df['Revenue'], bins = 20)\n",
    "ax_right.hist(stores_df['GrossIncome'],\n",
    "              bins = 20, orientation = 'horizontal')\n",
    "ax_mid.scatter(stores_df['Revenue'], stores_df['GrossIncome'])\n",
    "fig"
   ]
  },
  {
   "cell_type": "markdown",
   "metadata": {},
   "source": [
    "# Generate a 3-D scatter plot comparing revenue, gross income, and customer rating"
   ]
  },
  {
   "cell_type": "code",
   "execution_count": null,
   "metadata": {},
   "outputs": [],
   "source": [
    "from mpl_toolkits.mplot3d import Axes3D\n",
    "\n",
    "fig = plt.figure(figsize = (8, 6))\n",
    "ax = fig.add_subplot(projection = '3d')\n",
    "ax.scatter(stores_df['Revenue'],\n",
    "           stores_df['GrossIncome'],\n",
    "           stores_df['CustomerRating']);"
   ]
  },
  {
   "cell_type": "code",
   "execution_count": null,
   "metadata": {},
   "outputs": [],
   "source": [
    "ax.view_init(azim = -20)\n",
    "fig"
   ]
  }
 ],
 "metadata": {
  "kernelspec": {
   "display_name": "Python 3 (ipykernel)",
   "language": "python",
   "name": "python3"
  },
  "language_info": {
   "codemirror_mode": {
    "name": "ipython",
    "version": 3
   },
   "file_extension": ".py",
   "mimetype": "text/x-python",
   "name": "python",
   "nbconvert_exporter": "python",
   "pygments_lexer": "ipython3",
   "version": "3.9.7"
  }
 },
 "nbformat": 4,
 "nbformat_minor": 2
}
